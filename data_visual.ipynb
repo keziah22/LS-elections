{
  "nbformat": 4,
  "nbformat_minor": 0,
  "metadata": {
    "colab": {
      "name": "Loksabha_Predict.ipynb",
      "provenance": [],
      "collapsed_sections": []
    },
    "kernelspec": {
      "name": "python3",
      "display_name": "Python 3"
    },
    "language_info": {
      "name": "python"
    }
  },
  "cells": [
    {
      "cell_type": "code",
      "metadata": {
        "id": "HoP9kG20U-hu"
      },
      "source": [
        "import numpy as np\n",
        "import pandas as pd\n",
        "import plotly.express as px\n",
        "from sklearn.utils import resample\n",
        "from sklearn.ensemble import RandomForestClassifier\n",
        "from sklearn.model_selection import cross_val_score\n",
        "from sklearn.preprocessing import LabelEncoder\n",
        "from sklearn.preprocessing import MinMaxScaler\n",
        "from sklearn.model_selection import train_test_split\n",
        "from sklearn.neighbors import KNeighborsClassifier\n",
        "from sklearn.feature_selection import SelectKBest, chi2"
      ],
      "execution_count": null,
      "outputs": []
    },
    {
      "cell_type": "code",
      "metadata": {
        "id": "0UH9LymIZElE"
      },
      "source": [
        "#dataset of 2009- part1\n",
        "df09_1 =pd.read_csv('/content/LS2009Candidate.csv')"
      ],
      "execution_count": null,
      "outputs": []
    },
    {
      "cell_type": "code",
      "metadata": {
        "colab": {
          "base_uri": "https://localhost:8080/",
          "height": 143
        },
        "id": "rGcnjhAMZkuF",
        "outputId": "5371596f-0eae-43ce-cc19-435ff301db6b"
      },
      "source": [
        "df09_1.head(3)"
      ],
      "execution_count": null,
      "outputs": [
        {
          "output_type": "execute_result",
          "data": {
            "text/html": [
              "<div>\n",
              "<style scoped>\n",
              "    .dataframe tbody tr th:only-of-type {\n",
              "        vertical-align: middle;\n",
              "    }\n",
              "\n",
              "    .dataframe tbody tr th {\n",
              "        vertical-align: top;\n",
              "    }\n",
              "\n",
              "    .dataframe thead th {\n",
              "        text-align: right;\n",
              "    }\n",
              "</style>\n",
              "<table border=\"1\" class=\"dataframe\">\n",
              "  <thead>\n",
              "    <tr style=\"text-align: right;\">\n",
              "      <th></th>\n",
              "      <th>STATE</th>\n",
              "      <th>YEAR</th>\n",
              "      <th>CONSTITUENCY</th>\n",
              "      <th>NAME</th>\n",
              "      <th>GENDER</th>\n",
              "      <th>CATEGORY</th>\n",
              "      <th>AGE</th>\n",
              "      <th>PARTY</th>\n",
              "      <th>TOTAL_VOTES</th>\n",
              "      <th>WINNER</th>\n",
              "    </tr>\n",
              "  </thead>\n",
              "  <tbody>\n",
              "    <tr>\n",
              "      <th>0</th>\n",
              "      <td>Andhra Pradesh</td>\n",
              "      <td>2009</td>\n",
              "      <td>Adilabad</td>\n",
              "      <td>RATHOD RAMESH</td>\n",
              "      <td>M</td>\n",
              "      <td>ST</td>\n",
              "      <td>43.0</td>\n",
              "      <td>TDP</td>\n",
              "      <td>372268.0</td>\n",
              "      <td>1.0</td>\n",
              "    </tr>\n",
              "    <tr>\n",
              "      <th>1</th>\n",
              "      <td>Andhra Pradesh</td>\n",
              "      <td>2009</td>\n",
              "      <td>Adilabad</td>\n",
              "      <td>KOTNAK RAMESH</td>\n",
              "      <td>M</td>\n",
              "      <td>ST</td>\n",
              "      <td>39.0</td>\n",
              "      <td>INC</td>\n",
              "      <td>257181.0</td>\n",
              "      <td>0.0</td>\n",
              "    </tr>\n",
              "    <tr>\n",
              "      <th>2</th>\n",
              "      <td>Andhra Pradesh</td>\n",
              "      <td>2009</td>\n",
              "      <td>Adilabad</td>\n",
              "      <td>MESRAM NAGO RAO</td>\n",
              "      <td>M</td>\n",
              "      <td>ST</td>\n",
              "      <td>59.0</td>\n",
              "      <td>PRAP</td>\n",
              "      <td>112930.0</td>\n",
              "      <td>0.0</td>\n",
              "    </tr>\n",
              "  </tbody>\n",
              "</table>\n",
              "</div>"
            ],
            "text/plain": [
              "            STATE  YEAR CONSTITUENCY  ... PARTY TOTAL_VOTES WINNER\n",
              "0  Andhra Pradesh  2009     Adilabad  ...   TDP    372268.0    1.0\n",
              "1  Andhra Pradesh  2009     Adilabad  ...   INC    257181.0    0.0\n",
              "2  Andhra Pradesh  2009     Adilabad  ...  PRAP    112930.0    0.0\n",
              "\n",
              "[3 rows x 10 columns]"
            ]
          },
          "metadata": {},
          "execution_count": 43
        }
      ]
    },
    {
      "cell_type": "code",
      "metadata": {
        "id": "UojeaTSsZwLx"
      },
      "source": [
        "#deleting unnecessary columns\n",
        "df09_1.drop(columns =['ST_CODE','Month','PC Type','PC Number'],inplace=True)\n",
        "#renaming columns\n",
        "df09_1.rename(columns={'State name':'STATE','Year':'YEAR','PC name':'CONSTITUENCY','Candidate Name':'NAME',\n",
        "                       'Candidate Sex':'GENDER', 'Candidate Category':'CATEGORY', 'Candidate Age':'AGE', \n",
        "                       'Party Abbreviation':'PARTY', 'Total Votes Polled':'TOTAL_VOTES','Position':'WINNER'},inplace=True)\n",
        "\n"
      ],
      "execution_count": null,
      "outputs": []
    },
    {
      "cell_type": "code",
      "metadata": {
        "id": "hEsHCr6XeJ5H"
      },
      "source": [
        "#modifying winner column to display 1 for winner, and 0 non-winner\n",
        "for j in range(df09_1.shape[0]):\n",
        "  if(df09_1.iat[j,9] != 1):\n",
        "    df09_1.iat[j,9] = 0\n"
      ],
      "execution_count": null,
      "outputs": []
    },
    {
      "cell_type": "code",
      "metadata": {
        "id": "9Dhi5D4Zc30f"
      },
      "source": [
        "#dataset of 2009- part2\n",
        "df09_2 =pd.read_csv('/content/LokSabha2009.csv')"
      ],
      "execution_count": null,
      "outputs": []
    },
    {
      "cell_type": "code",
      "metadata": {
        "colab": {
          "base_uri": "https://localhost:8080/",
          "height": 143
        },
        "id": "0JTOB41YdCay",
        "outputId": "522de919-442f-470b-e313-2a2d5bed53e2"
      },
      "source": [
        "df09_2.head(3)"
      ],
      "execution_count": null,
      "outputs": [
        {
          "output_type": "execute_result",
          "data": {
            "text/html": [
              "<div>\n",
              "<style scoped>\n",
              "    .dataframe tbody tr th:only-of-type {\n",
              "        vertical-align: middle;\n",
              "    }\n",
              "\n",
              "    .dataframe tbody tr th {\n",
              "        vertical-align: top;\n",
              "    }\n",
              "\n",
              "    .dataframe thead th {\n",
              "        text-align: right;\n",
              "    }\n",
              "</style>\n",
              "<table border=\"1\" class=\"dataframe\">\n",
              "  <thead>\n",
              "    <tr style=\"text-align: right;\">\n",
              "      <th></th>\n",
              "      <th>NAME</th>\n",
              "      <th>CRIMINAL_CASES</th>\n",
              "      <th>ASSETS</th>\n",
              "      <th>LIABILITIES</th>\n",
              "    </tr>\n",
              "  </thead>\n",
              "  <tbody>\n",
              "    <tr>\n",
              "      <th>0</th>\n",
              "      <td>SHRI BISHNU PADA RAY</td>\n",
              "      <td>1</td>\n",
              "      <td>1241034.0</td>\n",
              "      <td>0</td>\n",
              "    </tr>\n",
              "    <tr>\n",
              "      <th>1</th>\n",
              "      <td>SHRI P. R. GANESHAN</td>\n",
              "      <td>0</td>\n",
              "      <td>329563.0</td>\n",
              "      <td>0</td>\n",
              "    </tr>\n",
              "    <tr>\n",
              "      <th>2</th>\n",
              "      <td>SHRI PRADEEP KUMAR EKKA</td>\n",
              "      <td>0</td>\n",
              "      <td>410000.0</td>\n",
              "      <td>0</td>\n",
              "    </tr>\n",
              "  </tbody>\n",
              "</table>\n",
              "</div>"
            ],
            "text/plain": [
              "                      NAME  CRIMINAL_CASES     ASSETS  LIABILITIES\n",
              "0     SHRI BISHNU PADA RAY               1  1241034.0            0\n",
              "1      SHRI P. R. GANESHAN               0   329563.0            0\n",
              "2  SHRI PRADEEP KUMAR EKKA               0   410000.0            0"
            ]
          },
          "metadata": {},
          "execution_count": 48
        }
      ]
    },
    {
      "cell_type": "code",
      "metadata": {
        "id": "PW4qpGwgc_lu"
      },
      "source": [
        "#deleting unnecessary columns\n",
        "df09_2.drop(columns =['Party','Education','Age','Constituency','Winner','Gender'],inplace=True)\n",
        "#renaming columns\n",
        "df09_2.rename(columns={'Candidate':'NAME','Criminal Cases':'CRIMINAL_CASES',\n",
        "                       'Total Assets':'ASSETS','Liabilities':'LIABILITIES'},inplace=True)"
      ],
      "execution_count": null,
      "outputs": []
    },
    {
      "cell_type": "code",
      "metadata": {
        "id": "hzhxcqPteS4D"
      },
      "source": [
        "\n",
        "df09_2['NAME'] = df09_2['NAME'].str.upper()\n",
        "#Merging the two datasets on left join and droping duplicate values\n",
        "df1  = pd.merge(df09_1,df09_2,on= 'NAME',how= 'left')\n",
        "df1.drop_duplicates(['NAME'],keep ='first',inplace=True)"
      ],
      "execution_count": null,
      "outputs": []
    },
    {
      "cell_type": "code",
      "metadata": {
        "colab": {
          "base_uri": "https://localhost:8080/",
          "height": 233
        },
        "id": "6Tl2nRWffpoP",
        "outputId": "a29f9e92-2a3d-4906-85f3-54e69d3e04a0"
      },
      "source": [
        "df1.head(3)\n"
      ],
      "execution_count": null,
      "outputs": [
        {
          "output_type": "execute_result",
          "data": {
            "text/html": [
              "<div>\n",
              "<style scoped>\n",
              "    .dataframe tbody tr th:only-of-type {\n",
              "        vertical-align: middle;\n",
              "    }\n",
              "\n",
              "    .dataframe tbody tr th {\n",
              "        vertical-align: top;\n",
              "    }\n",
              "\n",
              "    .dataframe thead th {\n",
              "        text-align: right;\n",
              "    }\n",
              "</style>\n",
              "<table border=\"1\" class=\"dataframe\">\n",
              "  <thead>\n",
              "    <tr style=\"text-align: right;\">\n",
              "      <th></th>\n",
              "      <th>STATE</th>\n",
              "      <th>YEAR</th>\n",
              "      <th>CONSTITUENCY</th>\n",
              "      <th>NAME</th>\n",
              "      <th>GENDER</th>\n",
              "      <th>CATEGORY</th>\n",
              "      <th>AGE</th>\n",
              "      <th>PARTY</th>\n",
              "      <th>TOTAL_VOTES</th>\n",
              "      <th>WINNER</th>\n",
              "      <th>CRIMINAL_CASES</th>\n",
              "      <th>ASSETS</th>\n",
              "      <th>LIABILITIES</th>\n",
              "    </tr>\n",
              "  </thead>\n",
              "  <tbody>\n",
              "    <tr>\n",
              "      <th>0</th>\n",
              "      <td>Andhra Pradesh</td>\n",
              "      <td>2009</td>\n",
              "      <td>Adilabad</td>\n",
              "      <td>RATHOD RAMESH</td>\n",
              "      <td>M</td>\n",
              "      <td>ST</td>\n",
              "      <td>43.0</td>\n",
              "      <td>TDP</td>\n",
              "      <td>372268.0</td>\n",
              "      <td>1.0</td>\n",
              "      <td>NaN</td>\n",
              "      <td>NaN</td>\n",
              "      <td>NaN</td>\n",
              "    </tr>\n",
              "    <tr>\n",
              "      <th>1</th>\n",
              "      <td>Andhra Pradesh</td>\n",
              "      <td>2009</td>\n",
              "      <td>Adilabad</td>\n",
              "      <td>KOTNAK RAMESH</td>\n",
              "      <td>M</td>\n",
              "      <td>ST</td>\n",
              "      <td>39.0</td>\n",
              "      <td>INC</td>\n",
              "      <td>257181.0</td>\n",
              "      <td>0.0</td>\n",
              "      <td>0.0</td>\n",
              "      <td>2600000.0</td>\n",
              "      <td>0.0</td>\n",
              "    </tr>\n",
              "    <tr>\n",
              "      <th>4</th>\n",
              "      <td>Andhra Pradesh</td>\n",
              "      <td>2009</td>\n",
              "      <td>Adilabad</td>\n",
              "      <td>MESRAM NAGO RAO</td>\n",
              "      <td>M</td>\n",
              "      <td>ST</td>\n",
              "      <td>59.0</td>\n",
              "      <td>PRAP</td>\n",
              "      <td>112930.0</td>\n",
              "      <td>0.0</td>\n",
              "      <td>NaN</td>\n",
              "      <td>NaN</td>\n",
              "      <td>NaN</td>\n",
              "    </tr>\n",
              "  </tbody>\n",
              "</table>\n",
              "</div>"
            ],
            "text/plain": [
              "            STATE  YEAR CONSTITUENCY  ... CRIMINAL_CASES     ASSETS LIABILITIES\n",
              "0  Andhra Pradesh  2009     Adilabad  ...            NaN        NaN         NaN\n",
              "1  Andhra Pradesh  2009     Adilabad  ...            0.0  2600000.0         0.0\n",
              "4  Andhra Pradesh  2009     Adilabad  ...            NaN        NaN         NaN\n",
              "\n",
              "[3 rows x 13 columns]"
            ]
          },
          "metadata": {},
          "execution_count": 49
        }
      ]
    },
    {
      "cell_type": "code",
      "metadata": {
        "id": "YpLGOYnGMKky"
      },
      "source": [
        "df4 =pd.read_csv(\"/content/kaggle_2019.csv\")\n",
        "df3 = df4.copy()\n",
        "df3.head()"
      ],
      "execution_count": null,
      "outputs": []
    },
    {
      "cell_type": "code",
      "metadata": {
        "id": "vXqateuvgGq1"
      },
      "source": [
        "#delete unnecessary column\n",
        "df3.drop(columns =['GENERAL\\nVOTES', 'POSTAL\\nVOTES', \n",
        "                          'OVER TOTAL ELECTORS \\nIN CONSTITUENCY', 'OVER TOTAL VOTES POLLED \\nIN CONSTITUENCY', \n",
        "                          'TOTAL ELECTORS'],inplace=True)\n",
        "# rename invalid column names\n",
        "df3.rename(columns={'CRIMINAL\\nCASES': 'CRIMINAL_CASES', 'GENERAL\\nVOTES': 'GENERAL_VOTES', \n",
        "                          'POSTAL\\nVOTES': 'POSTAL_VOTES', 'TOTAL\\nVOTES': 'TOTAL_VOTES', \n",
        "                          'OVER TOTAL ELECTORS \\nIN CONSTITUENCY': 'OVER_TOTAL_ELECTORS_IN_CONSTITUENCY', \n",
        "                          'OVER TOTAL VOTES POLLED \\nIN CONSTITUENCY': 'OVER_TOTAL_VOTES_POLLED_IN_CONSTITUENCY', \n",
        "                          'TOTAL ELECTORS': 'TOTAL_ELECTORS'},inplace=True)\n",
        "df3['YEAR']=2019\n",
        "df3 =df3.reindex(columns=['STATE','YEAR','CONSTITUENCY','NAME','GENDER','CATEGORY','AGE','PARTY','TOTAL_VOTES','WINNER','CRIMINAL_CASES','ASSETS','LIABILITIES'])\n"
      ],
      "execution_count": null,
      "outputs": []
    },
    {
      "cell_type": "code",
      "metadata": {
        "colab": {
          "base_uri": "https://localhost:8080/",
          "height": 233
        },
        "id": "_iBLtcp9khW7",
        "outputId": "ccf0fb17-2b22-4dc4-b461-36b734705bd7"
      },
      "source": [
        "df3.head(3)"
      ],
      "execution_count": null,
      "outputs": [
        {
          "output_type": "execute_result",
          "data": {
            "text/html": [
              "<div>\n",
              "<style scoped>\n",
              "    .dataframe tbody tr th:only-of-type {\n",
              "        vertical-align: middle;\n",
              "    }\n",
              "\n",
              "    .dataframe tbody tr th {\n",
              "        vertical-align: top;\n",
              "    }\n",
              "\n",
              "    .dataframe thead th {\n",
              "        text-align: right;\n",
              "    }\n",
              "</style>\n",
              "<table border=\"1\" class=\"dataframe\">\n",
              "  <thead>\n",
              "    <tr style=\"text-align: right;\">\n",
              "      <th></th>\n",
              "      <th>STATE</th>\n",
              "      <th>YEAR</th>\n",
              "      <th>CONSTITUENCY</th>\n",
              "      <th>NAME</th>\n",
              "      <th>GENDER</th>\n",
              "      <th>CATEGORY</th>\n",
              "      <th>AGE</th>\n",
              "      <th>PARTY</th>\n",
              "      <th>TOTAL_VOTES</th>\n",
              "      <th>WINNER</th>\n",
              "      <th>CRIMINAL_CASES</th>\n",
              "      <th>ASSETS</th>\n",
              "      <th>LIABILITIES</th>\n",
              "    </tr>\n",
              "  </thead>\n",
              "  <tbody>\n",
              "    <tr>\n",
              "      <th>0</th>\n",
              "      <td>Telangana</td>\n",
              "      <td>2019</td>\n",
              "      <td>ADILABAD</td>\n",
              "      <td>SOYAM BAPU RAO</td>\n",
              "      <td>MALE</td>\n",
              "      <td>ST</td>\n",
              "      <td>52.0</td>\n",
              "      <td>BJP</td>\n",
              "      <td>377374</td>\n",
              "      <td>1</td>\n",
              "      <td>52</td>\n",
              "      <td>3099414</td>\n",
              "      <td>231450</td>\n",
              "    </tr>\n",
              "    <tr>\n",
              "      <th>1</th>\n",
              "      <td>Telangana</td>\n",
              "      <td>2019</td>\n",
              "      <td>ADILABAD</td>\n",
              "      <td>Godam Nagesh</td>\n",
              "      <td>MALE</td>\n",
              "      <td>ST</td>\n",
              "      <td>54.0</td>\n",
              "      <td>TRS</td>\n",
              "      <td>318814</td>\n",
              "      <td>0</td>\n",
              "      <td>0</td>\n",
              "      <td>18477888</td>\n",
              "      <td>847000</td>\n",
              "    </tr>\n",
              "    <tr>\n",
              "      <th>2</th>\n",
              "      <td>Telangana</td>\n",
              "      <td>2019</td>\n",
              "      <td>ADILABAD</td>\n",
              "      <td>RATHOD RAMESH</td>\n",
              "      <td>MALE</td>\n",
              "      <td>ST</td>\n",
              "      <td>52.0</td>\n",
              "      <td>INC</td>\n",
              "      <td>314238</td>\n",
              "      <td>0</td>\n",
              "      <td>3</td>\n",
              "      <td>36491000</td>\n",
              "      <td>15300000</td>\n",
              "    </tr>\n",
              "  </tbody>\n",
              "</table>\n",
              "</div>"
            ],
            "text/plain": [
              "       STATE  YEAR CONSTITUENCY  ... CRIMINAL_CASES    ASSETS LIABILITIES\n",
              "0  Telangana  2019     ADILABAD  ...             52   3099414      231450\n",
              "1  Telangana  2019     ADILABAD  ...              0  18477888      847000\n",
              "2  Telangana  2019     ADILABAD  ...              3  36491000    15300000\n",
              "\n",
              "[3 rows x 13 columns]"
            ]
          },
          "metadata": {},
          "execution_count": 82
        }
      ]
    },
    {
      "cell_type": "code",
      "metadata": {
        "id": "1SPvQl-41J86"
      },
      "source": [
        "def value_cleaner(x):\n",
        "      try:\n",
        "        str_temp = (x.split('Rs')[1].split('\\n')[0].strip())\n",
        "        str_temp_2 = ''\n",
        "        for i in str_temp.split(\",\"):\n",
        "            str_temp_2 = str_temp_2+i\n",
        "        return str_temp_2\n",
        "      except:\n",
        "        x = 0\n",
        "        return x\n",
        "\n",
        "df3['ASSETS'] = df3['ASSETS'].apply((value_cleaner))\n",
        "df3['LIABILITIES'] = df3['LIABILITIES'].apply((value_cleaner))\n"
      ],
      "execution_count": null,
      "outputs": []
    },
    {
      "cell_type": "code",
      "metadata": {
        "id": "RJ23yEIgqRU7"
      },
      "source": [
        "dataset = pd.concat([df1,df2,df3])"
      ],
      "execution_count": null,
      "outputs": []
    },
    {
      "cell_type": "code",
      "metadata": {
        "colab": {
          "base_uri": "https://localhost:8080/"
        },
        "id": "a5HcJzKPqhlv",
        "outputId": "b9f4511f-e942-4fb2-b88e-2e8c8f8272cf"
      },
      "source": [
        "dataset.info()"
      ],
      "execution_count": null,
      "outputs": [
        {
          "output_type": "stream",
          "name": "stdout",
          "text": [
            "<class 'pandas.core.frame.DataFrame'>\n",
            "RangeIndex: 17716 entries, 0 to 17715\n",
            "Data columns (total 13 columns):\n",
            " #   Column          Non-Null Count  Dtype\n",
            "---  ------          --------------  -----\n",
            " 0   STATE           17716 non-null  int64\n",
            " 1   YEAR            17716 non-null  int64\n",
            " 2   CONSTITUENCY    17716 non-null  int64\n",
            " 3   NAME            17716 non-null  int64\n",
            " 4   GENDER          17716 non-null  int64\n",
            " 5   CATEGORY        17716 non-null  int64\n",
            " 6   AGE             17716 non-null  int64\n",
            " 7   PARTY           17716 non-null  int64\n",
            " 8   WINNER          17716 non-null  int64\n",
            " 9   CRIMINAL_CASES  17716 non-null  int64\n",
            " 10  EDUCATION       17716 non-null  int64\n",
            " 11  ASSETS          17716 non-null  int64\n",
            " 12  LIABILITIES     17716 non-null  int64\n",
            "dtypes: int64(13)\n",
            "memory usage: 1.8 MB\n"
          ]
        }
      ]
    },
    {
      "cell_type": "code",
      "metadata": {
        "colab": {
          "base_uri": "https://localhost:8080/"
        },
        "id": "Nl55dZc1v5Nz",
        "outputId": "9450a278-d0f0-4076-afdd-6c735e103bb8"
      },
      "source": [
        "dataset.EDUCATION.replace({'Post Graduate\\n':'Post Graduate','Not Given':'Not Available'},inplace=True)\n",
        "print(dataset['EDUCATION'].value_counts())\n",
        "dataset.GENDER.replace({'MALE':'M','FEMALE':'F'},inplace=True)\n",
        "dataset.CATEGORY.replace({'GENERAL':'GEN','Gen':'GEN'},inplace=True)\n",
        "print(dataset['GENDER'].value_counts())\n",
        "print(dataset['CATEGORY'].value_counts())\n"
      ],
      "execution_count": null,
      "outputs": [
        {
          "output_type": "stream",
          "name": "stdout",
          "text": [
            "Graduate                 2588\n",
            "Post Graduate            2276\n",
            "10th Pass                1857\n",
            "12th Pass                1832\n",
            "Graduate Professional    1417\n",
            "8th Pass                  990\n",
            "Not Available             590\n",
            "5th Pass                  555\n",
            "Literate                  544\n",
            "Doctorate                 322\n",
            "Others                    299\n",
            "Illiterate                133\n",
            "Name: EDUCATION, dtype: int64\n",
            "M    16248\n",
            "F     1462\n",
            "O        6\n",
            "Name: GENDER, dtype: int64\n",
            "GEN    12094\n",
            "SC      4200\n",
            "ST      1422\n",
            "Name: CATEGORY, dtype: int64\n"
          ]
        }
      ]
    },
    {
      "cell_type": "code",
      "metadata": {
        "id": "ULAZKR5lms68"
      },
      "source": [
        "#Filling education, criminal cases, assets, liabilities with modal value\n",
        "dataset['EDUCATION'].fillna('Graduate',inplace=True)\n",
        "dataset['CRIMINAL_CASES'].fillna('0',inplace=True)\n",
        "dataset['ASSETS'].fillna('0',inplace=True)\n",
        "dataset['LIABILITIES'].fillna('0',inplace=True)"
      ],
      "execution_count": null,
      "outputs": []
    },
    {
      "cell_type": "code",
      "metadata": {
        "id": "r-HNLUPSMglH"
      },
      "source": [
        "# replace Nil values with 0\n",
        "dataset['ASSETS'] = dataset['ASSETS'].replace(['Nil', '`', 'Not Available'], '0')\n",
        "dataset['LIABILITIES'] = dataset['LIABILITIES'].replace(['NIL', '`', 'Not Available'], '0')\n",
        "dataset['CRIMINAL_CASES'] = dataset['CRIMINAL_CASES'].replace(['Not Available','NaN',''], '0')\n",
        "\n",
        "# convert ASSETS, LIABILITIES and CRIMINAL_CASES column values into numeric\n",
        "dataset['ASSETS'] = dataset['ASSETS'].astype(str).astype(float)\n",
        "dataset['LIABILITIES'] = dataset['LIABILITIES'].astype(str).astype(float)\n",
        "#removes float values\n",
        "dataset['CRIMINAL_CASES'] = np.array(dataset['CRIMINAL_CASES'],dtype=int)\n",
        "dataset['CRIMINAL_CASES'] = dataset['CRIMINAL_CASES'].astype(str).astype(int)\n",
        "dataset['YEAR'] = dataset['YEAR'].astype(str)"
      ],
      "execution_count": null,
      "outputs": []
    },
    {
      "cell_type": "code",
      "metadata": {
        "colab": {
          "base_uri": "https://localhost:8080/"
        },
        "id": "EY5_arWgNkQf",
        "outputId": "74adfe8f-e972-4096-89af-dec56436704a"
      },
      "source": [
        "dataset.isna().sum()"
      ],
      "execution_count": null,
      "outputs": [
        {
          "output_type": "execute_result",
          "data": {
            "text/plain": [
              "STATE               0\n",
              "YEAR                0\n",
              "CONSTITUENCY        0\n",
              "NAME                0\n",
              "GENDER            289\n",
              "CATEGORY          289\n",
              "AGE               289\n",
              "PARTY              43\n",
              "TOTAL_VOTES        43\n",
              "POSITION            0\n",
              "CRIMINAL_CASES      0\n",
              "EDUCATION           0\n",
              "ASSETS              0\n",
              "LIABILITIES         0\n",
              "dtype: int64"
            ]
          },
          "metadata": {},
          "execution_count": 173
        }
      ]
    },
    {
      "cell_type": "code",
      "metadata": {
        "id": "ITW-wdvQPMKz"
      },
      "source": [
        "dataset = dataset.dropna()"
      ],
      "execution_count": null,
      "outputs": []
    },
    {
      "cell_type": "code",
      "metadata": {
        "colab": {
          "base_uri": "https://localhost:8080/",
          "height": 694
        },
        "id": "vLqMtTUJTBmg",
        "outputId": "26272e75-cecc-47aa-fe42-7f26ab320a30"
      },
      "source": [
        "dataset"
      ],
      "execution_count": null,
      "outputs": [
        {
          "output_type": "execute_result",
          "data": {
            "text/html": [
              "<div>\n",
              "<style scoped>\n",
              "    .dataframe tbody tr th:only-of-type {\n",
              "        vertical-align: middle;\n",
              "    }\n",
              "\n",
              "    .dataframe tbody tr th {\n",
              "        vertical-align: top;\n",
              "    }\n",
              "\n",
              "    .dataframe thead th {\n",
              "        text-align: right;\n",
              "    }\n",
              "</style>\n",
              "<table border=\"1\" class=\"dataframe\">\n",
              "  <thead>\n",
              "    <tr style=\"text-align: right;\">\n",
              "      <th></th>\n",
              "      <th>STATE</th>\n",
              "      <th>YEAR</th>\n",
              "      <th>CONSTITUENCY</th>\n",
              "      <th>NAME</th>\n",
              "      <th>GENDER</th>\n",
              "      <th>CATEGORY</th>\n",
              "      <th>AGE</th>\n",
              "      <th>PARTY</th>\n",
              "      <th>TOTAL_VOTES</th>\n",
              "      <th>POSITION</th>\n",
              "      <th>CRIMINAL_CASES</th>\n",
              "      <th>EDUCATION</th>\n",
              "      <th>ASSETS</th>\n",
              "      <th>LIABILITIES</th>\n",
              "    </tr>\n",
              "  </thead>\n",
              "  <tbody>\n",
              "    <tr>\n",
              "      <th>0</th>\n",
              "      <td>Andhra Pradesh</td>\n",
              "      <td>2009</td>\n",
              "      <td>Adilabad</td>\n",
              "      <td>RATHOD RAMESH</td>\n",
              "      <td>M</td>\n",
              "      <td>ST</td>\n",
              "      <td>43</td>\n",
              "      <td>TDP</td>\n",
              "      <td>372,268</td>\n",
              "      <td>1</td>\n",
              "      <td>0</td>\n",
              "      <td>Graduate</td>\n",
              "      <td>0</td>\n",
              "      <td>0</td>\n",
              "    </tr>\n",
              "    <tr>\n",
              "      <th>1</th>\n",
              "      <td>Andhra Pradesh</td>\n",
              "      <td>2009</td>\n",
              "      <td>Adilabad</td>\n",
              "      <td>KOTNAK RAMESH</td>\n",
              "      <td>M</td>\n",
              "      <td>ST</td>\n",
              "      <td>39</td>\n",
              "      <td>INC</td>\n",
              "      <td>257,181</td>\n",
              "      <td>0</td>\n",
              "      <td>0</td>\n",
              "      <td>12th Pass</td>\n",
              "      <td>2,600,000</td>\n",
              "      <td>0</td>\n",
              "    </tr>\n",
              "    <tr>\n",
              "      <th>2</th>\n",
              "      <td>Andhra Pradesh</td>\n",
              "      <td>2009</td>\n",
              "      <td>Adilabad</td>\n",
              "      <td>MESRAM NAGO RAO</td>\n",
              "      <td>M</td>\n",
              "      <td>ST</td>\n",
              "      <td>59</td>\n",
              "      <td>PRAP</td>\n",
              "      <td>112,930</td>\n",
              "      <td>0</td>\n",
              "      <td>0</td>\n",
              "      <td>Graduate</td>\n",
              "      <td>0</td>\n",
              "      <td>0</td>\n",
              "    </tr>\n",
              "    <tr>\n",
              "      <th>3</th>\n",
              "      <td>Andhra Pradesh</td>\n",
              "      <td>2009</td>\n",
              "      <td>Adilabad</td>\n",
              "      <td>ADE TUKARAM</td>\n",
              "      <td>M</td>\n",
              "      <td>ST</td>\n",
              "      <td>55</td>\n",
              "      <td>BJP</td>\n",
              "      <td>57,931</td>\n",
              "      <td>0</td>\n",
              "      <td>0</td>\n",
              "      <td>10th Pass</td>\n",
              "      <td>865,000</td>\n",
              "      <td>370,000</td>\n",
              "    </tr>\n",
              "    <tr>\n",
              "      <th>4</th>\n",
              "      <td>Andhra Pradesh</td>\n",
              "      <td>2009</td>\n",
              "      <td>Adilabad</td>\n",
              "      <td>RATHOD SADASHIV NAIK</td>\n",
              "      <td>M</td>\n",
              "      <td>ST</td>\n",
              "      <td>50</td>\n",
              "      <td>BSP</td>\n",
              "      <td>16,471</td>\n",
              "      <td>0</td>\n",
              "      <td>0</td>\n",
              "      <td>Graduate</td>\n",
              "      <td>1,150,000</td>\n",
              "      <td>0</td>\n",
              "    </tr>\n",
              "    <tr>\n",
              "      <th>...</th>\n",
              "      <td>...</td>\n",
              "      <td>...</td>\n",
              "      <td>...</td>\n",
              "      <td>...</td>\n",
              "      <td>...</td>\n",
              "      <td>...</td>\n",
              "      <td>...</td>\n",
              "      <td>...</td>\n",
              "      <td>...</td>\n",
              "      <td>...</td>\n",
              "      <td>...</td>\n",
              "      <td>...</td>\n",
              "      <td>...</td>\n",
              "      <td>...</td>\n",
              "    </tr>\n",
              "    <tr>\n",
              "      <th>2257</th>\n",
              "      <td>Maharashtra</td>\n",
              "      <td>2019</td>\n",
              "      <td>YAVATMAL-WASHIM</td>\n",
              "      <td>Vaishali Sudhakar Yede</td>\n",
              "      <td>F</td>\n",
              "      <td>GEN</td>\n",
              "      <td>28</td>\n",
              "      <td>PHJSP</td>\n",
              "      <td>20,620</td>\n",
              "      <td>0</td>\n",
              "      <td>0</td>\n",
              "      <td>10th Pass</td>\n",
              "      <td>1,168,500</td>\n",
              "      <td>9,000</td>\n",
              "    </tr>\n",
              "    <tr>\n",
              "      <th>2258</th>\n",
              "      <td>Maharashtra</td>\n",
              "      <td>2019</td>\n",
              "      <td>YAVATMAL-WASHIM</td>\n",
              "      <td>Anil Jayram Rathod</td>\n",
              "      <td>M</td>\n",
              "      <td>GEN</td>\n",
              "      <td>43</td>\n",
              "      <td>IND</td>\n",
              "      <td>14,686</td>\n",
              "      <td>0</td>\n",
              "      <td>0</td>\n",
              "      <td>Post Graduate</td>\n",
              "      <td>4,890,000</td>\n",
              "      <td>1,020,000</td>\n",
              "    </tr>\n",
              "    <tr>\n",
              "      <th>2259</th>\n",
              "      <td>Telangana</td>\n",
              "      <td>2019</td>\n",
              "      <td>ZAHIRABAD</td>\n",
              "      <td>B.B.PATIL</td>\n",
              "      <td>M</td>\n",
              "      <td>GEN</td>\n",
              "      <td>63</td>\n",
              "      <td>TRS</td>\n",
              "      <td>434,244</td>\n",
              "      <td>1</td>\n",
              "      <td>18</td>\n",
              "      <td>Graduate</td>\n",
              "      <td>1,287,851,556</td>\n",
              "      <td>11,535,000</td>\n",
              "    </tr>\n",
              "    <tr>\n",
              "      <th>2260</th>\n",
              "      <td>Telangana</td>\n",
              "      <td>2019</td>\n",
              "      <td>ZAHIRABAD</td>\n",
              "      <td>MADAN MOHAN RAO</td>\n",
              "      <td>M</td>\n",
              "      <td>GEN</td>\n",
              "      <td>49</td>\n",
              "      <td>INC</td>\n",
              "      <td>428,015</td>\n",
              "      <td>0</td>\n",
              "      <td>0</td>\n",
              "      <td>Post Graduate</td>\n",
              "      <td>903,663,001</td>\n",
              "      <td>0</td>\n",
              "    </tr>\n",
              "    <tr>\n",
              "      <th>2261</th>\n",
              "      <td>Telangana</td>\n",
              "      <td>2019</td>\n",
              "      <td>ZAHIRABAD</td>\n",
              "      <td>BANALA LAXMA REDDY</td>\n",
              "      <td>M</td>\n",
              "      <td>GEN</td>\n",
              "      <td>47</td>\n",
              "      <td>BJP</td>\n",
              "      <td>138,947</td>\n",
              "      <td>0</td>\n",
              "      <td>3</td>\n",
              "      <td>12th Pass</td>\n",
              "      <td>58,577,327</td>\n",
              "      <td>5,250,000</td>\n",
              "    </tr>\n",
              "  </tbody>\n",
              "</table>\n",
              "<p>17716 rows × 14 columns</p>\n",
              "</div>"
            ],
            "text/plain": [
              "               STATE  YEAR  ...        ASSETS LIABILITIES\n",
              "0     Andhra Pradesh  2009  ...             0           0\n",
              "1     Andhra Pradesh  2009  ...     2,600,000           0\n",
              "2     Andhra Pradesh  2009  ...             0           0\n",
              "3     Andhra Pradesh  2009  ...       865,000     370,000\n",
              "4     Andhra Pradesh  2009  ...     1,150,000           0\n",
              "...              ...   ...  ...           ...         ...\n",
              "2257     Maharashtra  2019  ...     1,168,500       9,000\n",
              "2258     Maharashtra  2019  ...     4,890,000   1,020,000\n",
              "2259       Telangana  2019  ... 1,287,851,556  11,535,000\n",
              "2260       Telangana  2019  ...   903,663,001           0\n",
              "2261       Telangana  2019  ...    58,577,327   5,250,000\n",
              "\n",
              "[17716 rows x 14 columns]"
            ]
          },
          "metadata": {},
          "execution_count": 175
        }
      ]
    },
    {
      "cell_type": "code",
      "metadata": {
        "id": "PSKz-Hb3Oz2Y",
        "colab": {
          "base_uri": "https://localhost:8080/",
          "height": 17
        },
        "outputId": "d1dab3e9-1e12-480e-ef7c-8d89a5d03ad4"
      },
      "source": [
        "dataset.to_excel(\"LS_3yr_data.xlsx\")\n",
        "from google.colab import files\n",
        "files.download(\"LS_3yr_data.xlsx\")"
      ],
      "execution_count": null,
      "outputs": [
        {
          "output_type": "display_data",
          "data": {
            "application/javascript": [
              "\n",
              "    async function download(id, filename, size) {\n",
              "      if (!google.colab.kernel.accessAllowed) {\n",
              "        return;\n",
              "      }\n",
              "      const div = document.createElement('div');\n",
              "      const label = document.createElement('label');\n",
              "      label.textContent = `Downloading \"${filename}\": `;\n",
              "      div.appendChild(label);\n",
              "      const progress = document.createElement('progress');\n",
              "      progress.max = size;\n",
              "      div.appendChild(progress);\n",
              "      document.body.appendChild(div);\n",
              "\n",
              "      const buffers = [];\n",
              "      let downloaded = 0;\n",
              "\n",
              "      const channel = await google.colab.kernel.comms.open(id);\n",
              "      // Send a message to notify the kernel that we're ready.\n",
              "      channel.send({})\n",
              "\n",
              "      for await (const message of channel.messages) {\n",
              "        // Send a message to notify the kernel that we're ready.\n",
              "        channel.send({})\n",
              "        if (message.buffers) {\n",
              "          for (const buffer of message.buffers) {\n",
              "            buffers.push(buffer);\n",
              "            downloaded += buffer.byteLength;\n",
              "            progress.value = downloaded;\n",
              "          }\n",
              "        }\n",
              "      }\n",
              "      const blob = new Blob(buffers, {type: 'application/binary'});\n",
              "      const a = document.createElement('a');\n",
              "      a.href = window.URL.createObjectURL(blob);\n",
              "      a.download = filename;\n",
              "      div.appendChild(a);\n",
              "      a.click();\n",
              "      div.remove();\n",
              "    }\n",
              "  "
            ],
            "text/plain": [
              "<IPython.core.display.Javascript object>"
            ]
          },
          "metadata": {}
        },
        {
          "output_type": "display_data",
          "data": {
            "application/javascript": [
              "download(\"download_b23b7402-3664-405a-8172-bd51ce4443ac\", \"LS_3yr_data.xlsx\", 1307674)"
            ],
            "text/plain": [
              "<IPython.core.display.Javascript object>"
            ]
          },
          "metadata": {}
        }
      ]
    },
    {
      "cell_type": "markdown",
      "metadata": {
        "id": "56nt398jKJZb"
      },
      "source": [
        "# Creating a prediction model\n"
      ]
    },
    {
      "cell_type": "code",
      "metadata": {
        "id": "hcZJmJkqifcs"
      },
      "source": [
        "dataset = pd.read_excel('/content/LS_3yr_data.xlsx')"
      ],
      "execution_count": null,
      "outputs": []
    },
    {
      "cell_type": "code",
      "metadata": {
        "colab": {
          "base_uri": "https://localhost:8080/"
        },
        "id": "BXjZVeNfBFGU",
        "outputId": "76200494-2cdb-4aee-cb04-46fa6d6678b7"
      },
      "source": [
        "votes_col = []\n",
        "series =dataset.groupby('CONSTITUENCY').sum().TOTAL_VOTES\n",
        "for row in dataset.itertuples():\n",
        "  cons = row.CONSTITUENCY\n",
        "  votes_col.append(series[cons])\n",
        "print(len(votes_col))\n",
        "dataset['TOTAL_ELECTORS']= votes_col\n",
        "  "
      ],
      "execution_count": null,
      "outputs": [
        {
          "output_type": "stream",
          "name": "stdout",
          "text": [
            "17716\n"
          ]
        }
      ]
    },
    {
      "cell_type": "code",
      "metadata": {
        "colab": {
          "base_uri": "https://localhost:8080/",
          "height": 704
        },
        "id": "p9EAeprcDNle",
        "outputId": "0f8d6883-a94a-49d1-9d7f-73cfa58c38c2"
      },
      "source": [
        "dataset"
      ],
      "execution_count": null,
      "outputs": [
        {
          "output_type": "execute_result",
          "data": {
            "text/html": [
              "<div>\n",
              "<style scoped>\n",
              "    .dataframe tbody tr th:only-of-type {\n",
              "        vertical-align: middle;\n",
              "    }\n",
              "\n",
              "    .dataframe tbody tr th {\n",
              "        vertical-align: top;\n",
              "    }\n",
              "\n",
              "    .dataframe thead th {\n",
              "        text-align: right;\n",
              "    }\n",
              "</style>\n",
              "<table border=\"1\" class=\"dataframe\">\n",
              "  <thead>\n",
              "    <tr style=\"text-align: right;\">\n",
              "      <th></th>\n",
              "      <th>STATE</th>\n",
              "      <th>YEAR</th>\n",
              "      <th>CONSTITUENCY</th>\n",
              "      <th>NAME</th>\n",
              "      <th>GENDER</th>\n",
              "      <th>CATEGORY</th>\n",
              "      <th>AGE</th>\n",
              "      <th>PARTY</th>\n",
              "      <th>TOTAL_VOTES</th>\n",
              "      <th>WINNER</th>\n",
              "      <th>CRIMINAL_CASES</th>\n",
              "      <th>EDUCATION</th>\n",
              "      <th>ASSETS</th>\n",
              "      <th>LIABILITIES</th>\n",
              "    </tr>\n",
              "  </thead>\n",
              "  <tbody>\n",
              "    <tr>\n",
              "      <th>0</th>\n",
              "      <td>Andhra Pradesh</td>\n",
              "      <td>2009</td>\n",
              "      <td>Adilabad</td>\n",
              "      <td>RATHOD RAMESH</td>\n",
              "      <td>M</td>\n",
              "      <td>ST</td>\n",
              "      <td>43</td>\n",
              "      <td>TDP</td>\n",
              "      <td>372268</td>\n",
              "      <td>1</td>\n",
              "      <td>0</td>\n",
              "      <td>Graduate</td>\n",
              "      <td>0</td>\n",
              "      <td>0</td>\n",
              "    </tr>\n",
              "    <tr>\n",
              "      <th>1</th>\n",
              "      <td>Andhra Pradesh</td>\n",
              "      <td>2009</td>\n",
              "      <td>Adilabad</td>\n",
              "      <td>KOTNAK RAMESH</td>\n",
              "      <td>M</td>\n",
              "      <td>ST</td>\n",
              "      <td>39</td>\n",
              "      <td>INC</td>\n",
              "      <td>257181</td>\n",
              "      <td>0</td>\n",
              "      <td>0</td>\n",
              "      <td>12th Pass</td>\n",
              "      <td>2600000</td>\n",
              "      <td>0</td>\n",
              "    </tr>\n",
              "    <tr>\n",
              "      <th>2</th>\n",
              "      <td>Andhra Pradesh</td>\n",
              "      <td>2009</td>\n",
              "      <td>Adilabad</td>\n",
              "      <td>MESRAM NAGO RAO</td>\n",
              "      <td>M</td>\n",
              "      <td>ST</td>\n",
              "      <td>59</td>\n",
              "      <td>PRAP</td>\n",
              "      <td>112930</td>\n",
              "      <td>0</td>\n",
              "      <td>0</td>\n",
              "      <td>Graduate</td>\n",
              "      <td>0</td>\n",
              "      <td>0</td>\n",
              "    </tr>\n",
              "    <tr>\n",
              "      <th>3</th>\n",
              "      <td>Andhra Pradesh</td>\n",
              "      <td>2009</td>\n",
              "      <td>Adilabad</td>\n",
              "      <td>ADE TUKARAM</td>\n",
              "      <td>M</td>\n",
              "      <td>ST</td>\n",
              "      <td>55</td>\n",
              "      <td>BJP</td>\n",
              "      <td>57931</td>\n",
              "      <td>0</td>\n",
              "      <td>0</td>\n",
              "      <td>10th Pass</td>\n",
              "      <td>865000</td>\n",
              "      <td>370000</td>\n",
              "    </tr>\n",
              "    <tr>\n",
              "      <th>4</th>\n",
              "      <td>Andhra Pradesh</td>\n",
              "      <td>2009</td>\n",
              "      <td>Adilabad</td>\n",
              "      <td>RATHOD SADASHIV NAIK</td>\n",
              "      <td>M</td>\n",
              "      <td>ST</td>\n",
              "      <td>50</td>\n",
              "      <td>BSP</td>\n",
              "      <td>16471</td>\n",
              "      <td>0</td>\n",
              "      <td>0</td>\n",
              "      <td>Graduate</td>\n",
              "      <td>1150000</td>\n",
              "      <td>0</td>\n",
              "    </tr>\n",
              "    <tr>\n",
              "      <th>...</th>\n",
              "      <td>...</td>\n",
              "      <td>...</td>\n",
              "      <td>...</td>\n",
              "      <td>...</td>\n",
              "      <td>...</td>\n",
              "      <td>...</td>\n",
              "      <td>...</td>\n",
              "      <td>...</td>\n",
              "      <td>...</td>\n",
              "      <td>...</td>\n",
              "      <td>...</td>\n",
              "      <td>...</td>\n",
              "      <td>...</td>\n",
              "      <td>...</td>\n",
              "    </tr>\n",
              "    <tr>\n",
              "      <th>17711</th>\n",
              "      <td>Maharashtra</td>\n",
              "      <td>2019</td>\n",
              "      <td>YAVATMAL-WASHIM</td>\n",
              "      <td>Vaishali Sudhakar Yede</td>\n",
              "      <td>F</td>\n",
              "      <td>GEN</td>\n",
              "      <td>28</td>\n",
              "      <td>PHJSP</td>\n",
              "      <td>20620</td>\n",
              "      <td>0</td>\n",
              "      <td>0</td>\n",
              "      <td>10th Pass</td>\n",
              "      <td>1168500</td>\n",
              "      <td>9000</td>\n",
              "    </tr>\n",
              "    <tr>\n",
              "      <th>17712</th>\n",
              "      <td>Maharashtra</td>\n",
              "      <td>2019</td>\n",
              "      <td>YAVATMAL-WASHIM</td>\n",
              "      <td>Anil Jayram Rathod</td>\n",
              "      <td>M</td>\n",
              "      <td>GEN</td>\n",
              "      <td>43</td>\n",
              "      <td>IND</td>\n",
              "      <td>14686</td>\n",
              "      <td>0</td>\n",
              "      <td>0</td>\n",
              "      <td>Post Graduate</td>\n",
              "      <td>4890000</td>\n",
              "      <td>1020000</td>\n",
              "    </tr>\n",
              "    <tr>\n",
              "      <th>17713</th>\n",
              "      <td>Telangana</td>\n",
              "      <td>2019</td>\n",
              "      <td>ZAHIRABAD</td>\n",
              "      <td>B.B.PATIL</td>\n",
              "      <td>M</td>\n",
              "      <td>GEN</td>\n",
              "      <td>63</td>\n",
              "      <td>TRS</td>\n",
              "      <td>434244</td>\n",
              "      <td>1</td>\n",
              "      <td>18</td>\n",
              "      <td>Graduate</td>\n",
              "      <td>1287851556</td>\n",
              "      <td>11535000</td>\n",
              "    </tr>\n",
              "    <tr>\n",
              "      <th>17714</th>\n",
              "      <td>Telangana</td>\n",
              "      <td>2019</td>\n",
              "      <td>ZAHIRABAD</td>\n",
              "      <td>MADAN MOHAN RAO</td>\n",
              "      <td>M</td>\n",
              "      <td>GEN</td>\n",
              "      <td>49</td>\n",
              "      <td>INC</td>\n",
              "      <td>428015</td>\n",
              "      <td>0</td>\n",
              "      <td>0</td>\n",
              "      <td>Post Graduate</td>\n",
              "      <td>903663001</td>\n",
              "      <td>0</td>\n",
              "    </tr>\n",
              "    <tr>\n",
              "      <th>17715</th>\n",
              "      <td>Telangana</td>\n",
              "      <td>2019</td>\n",
              "      <td>ZAHIRABAD</td>\n",
              "      <td>BANALA LAXMA REDDY</td>\n",
              "      <td>M</td>\n",
              "      <td>GEN</td>\n",
              "      <td>47</td>\n",
              "      <td>BJP</td>\n",
              "      <td>138947</td>\n",
              "      <td>0</td>\n",
              "      <td>3</td>\n",
              "      <td>12th Pass</td>\n",
              "      <td>58577327</td>\n",
              "      <td>5250000</td>\n",
              "    </tr>\n",
              "  </tbody>\n",
              "</table>\n",
              "<p>17716 rows × 14 columns</p>\n",
              "</div>"
            ],
            "text/plain": [
              "                STATE  YEAR  ...      ASSETS LIABILITIES\n",
              "0      Andhra Pradesh  2009  ...           0           0\n",
              "1      Andhra Pradesh  2009  ...     2600000           0\n",
              "2      Andhra Pradesh  2009  ...           0           0\n",
              "3      Andhra Pradesh  2009  ...      865000      370000\n",
              "4      Andhra Pradesh  2009  ...     1150000           0\n",
              "...               ...   ...  ...         ...         ...\n",
              "17711     Maharashtra  2019  ...     1168500        9000\n",
              "17712     Maharashtra  2019  ...     4890000     1020000\n",
              "17713       Telangana  2019  ...  1287851556    11535000\n",
              "17714       Telangana  2019  ...   903663001           0\n",
              "17715       Telangana  2019  ...    58577327     5250000\n",
              "\n",
              "[17716 rows x 14 columns]"
            ]
          },
          "metadata": {},
          "execution_count": 4
        }
      ]
    },
    {
      "cell_type": "code",
      "metadata": {
        "id": "EsJJgQDSQQ79"
      },
      "source": [
        "dataset1= dataset.copy()\n",
        "dataset2= dataset.copy()\n",
        "dataset3= dataset.copy()"
      ],
      "execution_count": null,
      "outputs": []
    },
    {
      "cell_type": "code",
      "metadata": {
        "colab": {
          "base_uri": "https://localhost:8080/"
        },
        "id": "swa0JcEnLFiD",
        "outputId": "bd188747-6af5-4c6f-f98a-132dee198444"
      },
      "source": [
        "dataset.info()"
      ],
      "execution_count": null,
      "outputs": [
        {
          "output_type": "stream",
          "name": "stdout",
          "text": [
            "<class 'pandas.core.frame.DataFrame'>\n",
            "RangeIndex: 17716 entries, 0 to 17715\n",
            "Data columns (total 15 columns):\n",
            " #   Column          Non-Null Count  Dtype \n",
            "---  ------          --------------  ----- \n",
            " 0   STATE           17716 non-null  object\n",
            " 1   YEAR            17716 non-null  object\n",
            " 2   CONSTITUENCY    17716 non-null  object\n",
            " 3   NAME            17716 non-null  object\n",
            " 4   GENDER          17716 non-null  object\n",
            " 5   CATEGORY        17716 non-null  object\n",
            " 6   AGE             17716 non-null  int64 \n",
            " 7   PARTY           17716 non-null  object\n",
            " 8   TOTAL_VOTES     17716 non-null  int64 \n",
            " 9   WINNER          17716 non-null  int64 \n",
            " 10  CRIMINAL_CASES  17716 non-null  int64 \n",
            " 11  EDUCATION       17716 non-null  object\n",
            " 12  ASSETS          17716 non-null  int64 \n",
            " 13  LIABILITIES     17716 non-null  int64 \n",
            " 14  TOTAL_ELECTORS  17716 non-null  int64 \n",
            "dtypes: int64(7), object(8)\n",
            "memory usage: 2.0+ MB\n"
          ]
        }
      ]
    },
    {
      "cell_type": "code",
      "metadata": {
        "id": "QFOPGI6my2gl"
      },
      "source": [
        "# label encode categorical columns\n",
        "\n",
        "lblEncoder_state = LabelEncoder()\n",
        "lblEncoder_state.fit(dataset['STATE'])\n",
        "dataset['STATE'] = lblEncoder_state.transform(dataset['STATE'])\n",
        "\n",
        "lblEncoder_cons = LabelEncoder()\n",
        "lblEncoder_cons.fit(dataset['YEAR'])\n",
        "dataset['YEAR'] = lblEncoder_cons.transform(dataset['YEAR'])\n",
        "\n",
        "lblEncoder_cons = LabelEncoder()\n",
        "lblEncoder_cons.fit(dataset['CONSTITUENCY'])\n",
        "dataset['CONSTITUENCY'] = lblEncoder_cons.transform(dataset['CONSTITUENCY'])\n",
        "\n",
        "lblEncoder_name = LabelEncoder()\n",
        "lblEncoder_name.fit(dataset['NAME'])\n",
        "dataset['NAME'] = lblEncoder_name.transform(dataset['NAME'])\n",
        "\n",
        "lblEncoder_party = LabelEncoder()\n",
        "lblEncoder_party.fit(dataset['PARTY'])\n",
        "dataset['PARTY'] = lblEncoder_party.transform(dataset['PARTY'])\n",
        "\n",
        "lblEncoder_gender = LabelEncoder()\n",
        "lblEncoder_gender.fit(dataset['GENDER'])\n",
        "dataset['GENDER'] = lblEncoder_gender.transform(dataset['GENDER'])\n",
        "\n",
        "lblEncoder_category = LabelEncoder()\n",
        "lblEncoder_category.fit(dataset['CATEGORY'])\n",
        "dataset['CATEGORY'] = lblEncoder_category.transform(dataset['CATEGORY'])\n",
        "\n",
        "lblEncoder_edu = LabelEncoder()\n",
        "lblEncoder_edu.fit(dataset['EDUCATION'])\n",
        "dataset['EDUCATION'] = lblEncoder_edu.transform(dataset['EDUCATION'])\n",
        "\n"
      ],
      "execution_count": null,
      "outputs": []
    },
    {
      "cell_type": "markdown",
      "metadata": {
        "id": "CIElCeN-ebTY"
      },
      "source": [
        "## First Model: Using KNeighborsClassifier"
      ]
    },
    {
      "cell_type": "code",
      "metadata": {
        "colab": {
          "base_uri": "https://localhost:8080/"
        },
        "id": "jiGp9ARg2p_N",
        "outputId": "ece9364c-1f87-48e8-d725-2da6e07b2993"
      },
      "source": [
        "# separate train features and label\n",
        "y = dataset[\"WINNER\"]\n",
        "X = dataset.drop(labels=[\"WINNER\"], axis=1)\n",
        "# split dataset into train and test data\n",
        "X_train, X_test, y_train, y_test = train_test_split(X, y, test_size=0.2, random_state=1, stratify=y)\n",
        "# train and test knn model\n",
        "knn = KNeighborsClassifier()\n",
        "knn.fit(X_train, y_train)\n",
        "pred = knn.predict(X_test)\n",
        "print(\"Testing Accuracy is: \", knn.score(X_test, y_test)*100, \"%\")"
      ],
      "execution_count": null,
      "outputs": [
        {
          "output_type": "stream",
          "name": "stdout",
          "text": [
            "Testing Accuracy is:  91.19638826185101 %\n"
          ]
        }
      ]
    },
    {
      "cell_type": "markdown",
      "metadata": {
        "id": "eZSFMtatht85"
      },
      "source": [
        "## Second Model: Using MinMaxScaler"
      ]
    },
    {
      "cell_type": "code",
      "metadata": {
        "colab": {
          "base_uri": "https://localhost:8080/"
        },
        "id": "dzugjmPDQBg_",
        "outputId": "0a8da61e-b36a-4169-ec2b-da94fa5f79a8"
      },
      "source": [
        "# scaling values into 0-1 range\n",
        "scaler = MinMaxScaler(feature_range=(0, 1))\n",
        "features = [\n",
        "    'STATE', 'CONSTITUENCY', 'NAME', 'PARTY', 'GENDER', 'CRIMINAL_CASES', 'AGE', 'CATEGORY', 'EDUCATION', 'ASSETS', 'LIABILITIES','TOTAL_VOTES','TOTAL_ELECTORS']\n",
        "dataset2[features] = scaler.fit_transform(dataset[features])\n",
        "# separate train features and label\n",
        "y = dataset2[\"WINNER\"]\n",
        "X = dataset2.drop(labels=[\"WINNER\"], axis=1)\n",
        "# split dataset into train and test data\n",
        "X_train, X_test, y_train, y_test = train_test_split(X, y, test_size=0.2, random_state=1, stratify=y)\n",
        "# train and test knn model\n",
        "knn = KNeighborsClassifier()\n",
        "knn.fit(X_train, y_train)\n",
        "knn.predict(X_test)\n",
        "print(\"Testing Accuracy is: \", knn.score(X_test, y_test)*100, \"%\")"
      ],
      "execution_count": null,
      "outputs": [
        {
          "output_type": "stream",
          "name": "stdout",
          "text": [
            "Testing Accuracy is:  93.62302483069978 %\n"
          ]
        }
      ]
    },
    {
      "cell_type": "markdown",
      "metadata": {
        "id": "xH1ospITIzgu"
      },
      "source": [
        "## Third Model"
      ]
    },
    {
      "cell_type": "code",
      "metadata": {
        "colab": {
          "base_uri": "https://localhost:8080/"
        },
        "id": "WYWmQny1P4Fz",
        "outputId": "58005c75-4529-4697-8a79-35a873497b8e"
      },
      "source": [
        "encoded_edu = []\n",
        "# iterate through each row in the dataset\n",
        "for row in dataset1.itertuples():\n",
        "    education = row.EDUCATION\n",
        "    if education == \"Illiterate\":\n",
        "        encoded_edu.append(0)\n",
        "    elif education == \"Literate\":\n",
        "        encoded_edu.append(1)\n",
        "    elif education == \"5th Pass\":\n",
        "        encoded_edu.append(2)\n",
        "    elif education == \"8th Pass\":\n",
        "        encoded_edu.append(3)\n",
        "    elif education == \"10th Pass\":\n",
        "        encoded_edu.append(4)\n",
        "    elif education == \"12th Pass\":\n",
        "        encoded_edu.append(7)\n",
        "    elif education == \"Graduate\":\n",
        "        encoded_edu.append(8)\n",
        "    elif education == \"Post Graduate\":\n",
        "        encoded_edu.append(9)\n",
        "    elif education == \"Graduate Professional\":\n",
        "        encoded_edu.append(10)\n",
        "    elif education == \"Doctorate\":\n",
        "        encoded_edu.append(11)\n",
        "    else:\n",
        "        encoded_edu.append(5)\n",
        "dataset1['EDUCATION'] = encoded_edu\n",
        "dataset1['EDUCATION']"
      ],
      "execution_count": null,
      "outputs": [
        {
          "output_type": "execute_result",
          "data": {
            "text/plain": [
              "0        8\n",
              "1        7\n",
              "2        8\n",
              "3        4\n",
              "4        8\n",
              "        ..\n",
              "17711    4\n",
              "17712    9\n",
              "17713    8\n",
              "17714    9\n",
              "17715    7\n",
              "Name: EDUCATION, Length: 17716, dtype: int64"
            ]
          },
          "metadata": {},
          "execution_count": 212
        }
      ]
    },
    {
      "cell_type": "code",
      "metadata": {
        "colab": {
          "base_uri": "https://localhost:8080/"
        },
        "id": "hEA3a88RwjyO",
        "outputId": "e79bd45a-3a64-4553-8043-91b99ee001b3"
      },
      "source": [
        "temp = dataset1.value_counts('PARTY')\n",
        "avg = temp.mean()\n",
        "print(avg)\n",
        "\n",
        "less_freq=[]\n",
        "for k in temp.index:\n",
        "    if temp[k] < avg :\n",
        "      less_freq.append(k)\n",
        "\n",
        "dataset1.loc[dataset1[\"PARTY\"].isin(less_freq), \"PARTY\"] = \"Other\"\n",
        "dataset1['PARTY'].value_counts()\n"
      ],
      "execution_count": null,
      "outputs": [
        {
          "output_type": "stream",
          "name": "stdout",
          "text": [
            "25.63820549927641\n"
          ]
        },
        {
          "output_type": "execute_result",
          "data": {
            "text/plain": [
              "IND      6946\n",
              "Other    2449\n",
              "INC      1309\n",
              "BJP      1268\n",
              "BSP      1141\n",
              "         ... \n",
              "RSP        27\n",
              "AAP        27\n",
              "JaSPa      27\n",
              "WPOI       26\n",
              "LD         26\n",
              "Name: PARTY, Length: 64, dtype: int64"
            ]
          },
          "metadata": {},
          "execution_count": 213
        }
      ]
    },
    {
      "cell_type": "code",
      "metadata": {
        "id": "5w6Sjb2rw9cI"
      },
      "source": [
        "\n",
        "lblEncoder_category.fit(dataset1['CATEGORY'])\n",
        "dataset1['CATEGORY'] = lblEncoder_category.transform(dataset1['CATEGORY'])\n",
        "\n",
        "lblEncoder_edu =lblEncoder_state = LabelEncoder()\n",
        "lblEncoder_state.fit(dataset1['STATE'])\n",
        "dataset1['STATE'] = lblEncoder_state.transform(dataset1['STATE'])\n",
        "\n",
        "lblEncoder_cons = LabelEncoder()\n",
        "lblEncoder_cons.fit(dataset1['CONSTITUENCY'])\n",
        "dataset1['CONSTITUENCY'] = lblEncoder_cons.transform(dataset1['CONSTITUENCY'])\n",
        "\n",
        "lblEncoder_name = LabelEncoder()\n",
        "lblEncoder_name.fit(dataset1['NAME'])\n",
        "dataset1['NAME'] = lblEncoder_name.transform(dataset1['NAME'])\n",
        "\n",
        "lblEncoder_party = LabelEncoder()\n",
        "lblEncoder_party.fit(dataset1['PARTY'])\n",
        "dataset1['PARTY'] = lblEncoder_party.transform(dataset1['PARTY'])\n",
        "\n",
        "lblEncoder_gender = LabelEncoder()\n",
        "lblEncoder_gender.fit(dataset1['GENDER'])\n",
        "dataset1['GENDER'] = lblEncoder_gender.transform(dataset1['GENDER'])\n",
        "\n",
        "lblEncoder_category = LabelEncoder() LabelEncoder()\n",
        "lblEncoder_edu.fit(dataset1['EDUCATION'])\n",
        "dataset1['EDUCATION'] = lblEncoder_edu.transform(dataset1['EDUCATION'])"
      ],
      "execution_count": null,
      "outputs": []
    },
    {
      "cell_type": "code",
      "metadata": {
        "colab": {
          "base_uri": "https://localhost:8080/"
        },
        "id": "AiSfBYJRxFUw",
        "outputId": "4e09762b-d0ab-4cb8-be56-a8a145655fd3"
      },
      "source": [
        "# scaling values into 0-1 range\n",
        "scaler = MinMaxScaler(feature_range=(0, 1))\n",
        "features = [\n",
        "    'STATE', 'CONSTITUENCY', 'NAME', 'PARTY', 'GENDER', 'CRIMINAL_CASES', 'AGE', 'CATEGORY', 'EDUCATION', 'ASSETS', 'LIABILITIES','TOTAL_VOTES','TOTAL_ELECTORS']\n",
        "dataset1[features] = scaler.fit_transform(dataset1[features])\n",
        "# separate train features and label\n",
        "y = dataset1[\"WINNER\"]\n",
        "X = dataset1.drop(labels=[\"WINNER\"], axis=1)\n",
        "# split dataset into train and test data\n",
        "X_train, X_test, y_train, y_test = train_test_split(X, y, test_size=0.2, random_state=1, stratify=y)\n",
        "# train and test knn model\n",
        "knn = KNeighborsClassifier()\n",
        "knn.fit(X_train, y_train)\n",
        "knn.predict(X_test)\n",
        "print(\"Testing Accuracy is: \", knn.score(X_test, y_test)*100, \"%\")"
      ],
      "execution_count": null,
      "outputs": [
        {
          "output_type": "stream",
          "name": "stdout",
          "text": [
            "Testing Accuracy is:  93.98984198645599 %\n"
          ]
        }
      ]
    },
    {
      "cell_type": "markdown",
      "metadata": {
        "id": "1pqYpNdmh5eF"
      },
      "source": [
        "## Fourth Model: Adding New Features"
      ]
    },
    {
      "cell_type": "code",
      "metadata": {
        "colab": {
          "base_uri": "https://localhost:8080/",
          "height": 444
        },
        "id": "cc1wcGB-EgWU",
        "outputId": "4d1776dd-c35e-4b23-eb32-a9ba2d0db68a"
      },
      "source": [
        "# Preparing feature values\n",
        "cons_per_state = {}\n",
        "voters_per_state = {}\n",
        "party_winningSeats = {}\n",
        "party_criminal = {}\n",
        "party_education = {}\n",
        "party_totalCandidates_per_cons = {}\n",
        "party_winningSeats_per_cons = {}\n",
        "party_criminal_per_cons = {}\n",
        "party_education_per_cons = {}\n",
        "\n",
        "# group by state\n",
        "subset = dataset[['STATE', 'CONSTITUENCY', 'TOTAL_ELECTORS']]\n",
        "gk = subset.groupby('STATE')\n",
        "# for each state\n",
        "for name,group in gk:\n",
        "    # total constituencies per state\n",
        "    cons_per_state[name] = len(group)\n",
        "    \n",
        "    # total voters per state\n",
        "    voters_per_state[name] = group['TOTAL_ELECTORS'].sum()\n",
        "# group by party\n",
        "subset = dataset[['PARTY', 'CONSTITUENCY', 'CRIMINAL_CASES', 'EDUCATION', 'WINNER']]\n",
        "gk = subset.groupby('PARTY')\n",
        "# for each party\n",
        "for name,group in gk:\n",
        "    # winning seats by party\n",
        "    party_winningSeats[name] = group[group['WINNER'] == 1.0].shape[0]\n",
        "    \n",
        "    # criminal cases by party\n",
        "    party_criminal[name] = group['CRIMINAL_CASES'].sum()\n",
        "    \n",
        "    # education qualification by party (sum of candidates)\n",
        "    party_education[name] = group['EDUCATION'].sum()\n",
        "    \n",
        "    # group by constituency\n",
        "    gk2 = group.groupby('CONSTITUENCY')\n",
        "    # for each constituency\n",
        "    for name2, group2 in gk2:\n",
        "        key = str(name2)+'_'+str(name)    # cons_party\n",
        "        \n",
        "        # total candidates by party in constituency\n",
        "        party_totalCandidates_per_cons[key] = len(group2)\n",
        "        \n",
        "        # party winning seats in the constituency\n",
        "        party_winningSeats_per_cons[key] = group2[group2['WINNER'] == 1.0].shape[0]\n",
        "        \n",
        "        # criminal cases by party in the constituency\n",
        "        party_criminal_per_cons[key] = group2['CRIMINAL_CASES'].sum()\n",
        "# education qualification by party in constituency (sum of candidates)\n",
        "        party_education_per_cons[key] = group2['EDUCATION'].sum()\n",
        "\n",
        "# Applying feature values\n",
        "# new feature columns\n",
        "total_cons_per_state = []\n",
        "total_voters_per_state = []\n",
        "total_voters_per_cons = []\n",
        "winning_seats_by_party = []\n",
        "criminal_by_party = []\n",
        "education_by_party = []\n",
        "total_candidates_by_party_per_cons = []\n",
        "winning_seats_by_party_per_cons = []\n",
        "criminal_by_party_per_cons = []\n",
        "education_by_party_per_cons = []\n",
        "# iterate through each row in the dataset\n",
        "for row in dataset.itertuples():\n",
        "    subkey = str(row.CONSTITUENCY)+'_'+str(row.PARTY)\n",
        "    total_cons_per_state.append(cons_per_state.get(row.STATE))\n",
        "    total_voters_per_state.append(voters_per_state.get(row.STATE))\n",
        "    winning_seats_by_party.append(party_winningSeats.get(row.PARTY))\n",
        "    criminal_by_party.append(party_criminal.get(row.PARTY))\n",
        "    education_by_party.append(party_education.get(row.PARTY))\n",
        "    total_candidates_by_party_per_cons.append(party_totalCandidates_per_cons.get(subkey))\n",
        "    winning_seats_by_party_per_cons.append(party_winningSeats_per_cons.get(subkey))\n",
        "    criminal_by_party_per_cons.append(party_criminal_per_cons.get(subkey))\n",
        "    education_by_party_per_cons.append(party_education_per_cons.get(subkey))\n",
        "# append columns to dataset\n",
        "dataset['total_cons_per_state'] = total_cons_per_state\n",
        "dataset['total_voters_per_state'] = total_voters_per_state\n",
        "dataset['winning_seats_by_party'] = winning_seats_by_party\n",
        "dataset['criminal_by_party'] = criminal_by_party\n",
        "dataset['education_by_party'] = education_by_party\n",
        "dataset['total_candidates_by_party_per_cons'] = total_candidates_by_party_per_cons\n",
        "dataset['winning_seats_by_party_per_cons'] = winning_seats_by_party_per_cons\n",
        "dataset['criminal_by_party_per_cons'] = criminal_by_party_per_cons\n",
        "dataset['education_by_party_per_cons'] = education_by_party_per_cons\n",
        "dataset"
      ],
      "execution_count": null,
      "outputs": [
        {
          "output_type": "execute_result",
          "data": {
            "text/html": [
              "<div>\n",
              "<style scoped>\n",
              "    .dataframe tbody tr th:only-of-type {\n",
              "        vertical-align: middle;\n",
              "    }\n",
              "\n",
              "    .dataframe tbody tr th {\n",
              "        vertical-align: top;\n",
              "    }\n",
              "\n",
              "    .dataframe thead th {\n",
              "        text-align: right;\n",
              "    }\n",
              "</style>\n",
              "<table border=\"1\" class=\"dataframe\">\n",
              "  <thead>\n",
              "    <tr style=\"text-align: right;\">\n",
              "      <th></th>\n",
              "      <th>STATE</th>\n",
              "      <th>YEAR</th>\n",
              "      <th>CONSTITUENCY</th>\n",
              "      <th>NAME</th>\n",
              "      <th>GENDER</th>\n",
              "      <th>CATEGORY</th>\n",
              "      <th>AGE</th>\n",
              "      <th>PARTY</th>\n",
              "      <th>TOTAL_VOTES</th>\n",
              "      <th>WINNER</th>\n",
              "      <th>CRIMINAL_CASES</th>\n",
              "      <th>EDUCATION</th>\n",
              "      <th>ASSETS</th>\n",
              "      <th>LIABILITIES</th>\n",
              "      <th>TOTAL_ELECTORS</th>\n",
              "      <th>total_cons_per_state</th>\n",
              "      <th>total_voters_per_state</th>\n",
              "      <th>winning_seats_by_party</th>\n",
              "      <th>criminal_by_party</th>\n",
              "      <th>education_by_party</th>\n",
              "      <th>total_candidates_by_party_per_cons</th>\n",
              "      <th>winning_seats_by_party_per_cons</th>\n",
              "      <th>criminal_by_party_per_cons</th>\n",
              "      <th>education_by_party_per_cons</th>\n",
              "    </tr>\n",
              "  </thead>\n",
              "  <tbody>\n",
              "    <tr>\n",
              "      <th>0</th>\n",
              "      <td>1</td>\n",
              "      <td>0</td>\n",
              "      <td>44</td>\n",
              "      <td>12316</td>\n",
              "      <td>1</td>\n",
              "      <td>2</td>\n",
              "      <td>43</td>\n",
              "      <td>621</td>\n",
              "      <td>372268</td>\n",
              "      <td>1</td>\n",
              "      <td>0</td>\n",
              "      <td>5</td>\n",
              "      <td>0</td>\n",
              "      <td>0</td>\n",
              "      <td>863581</td>\n",
              "      <td>1261</td>\n",
              "      <td>2232097337</td>\n",
              "      <td>25</td>\n",
              "      <td>25</td>\n",
              "      <td>439</td>\n",
              "      <td>1</td>\n",
              "      <td>1</td>\n",
              "      <td>0</td>\n",
              "      <td>5</td>\n",
              "    </tr>\n",
              "    <tr>\n",
              "      <th>1</th>\n",
              "      <td>1</td>\n",
              "      <td>0</td>\n",
              "      <td>44</td>\n",
              "      <td>7151</td>\n",
              "      <td>1</td>\n",
              "      <td>2</td>\n",
              "      <td>39</td>\n",
              "      <td>250</td>\n",
              "      <td>257181</td>\n",
              "      <td>0</td>\n",
              "      <td>0</td>\n",
              "      <td>1</td>\n",
              "      <td>2600000</td>\n",
              "      <td>0</td>\n",
              "      <td>863581</td>\n",
              "      <td>1261</td>\n",
              "      <td>2232097337</td>\n",
              "      <td>301</td>\n",
              "      <td>1110</td>\n",
              "      <td>7710</td>\n",
              "      <td>1</td>\n",
              "      <td>0</td>\n",
              "      <td>0</td>\n",
              "      <td>1</td>\n",
              "    </tr>\n",
              "    <tr>\n",
              "      <th>2</th>\n",
              "      <td>1</td>\n",
              "      <td>0</td>\n",
              "      <td>44</td>\n",
              "      <td>8627</td>\n",
              "      <td>1</td>\n",
              "      <td>2</td>\n",
              "      <td>59</td>\n",
              "      <td>452</td>\n",
              "      <td>112930</td>\n",
              "      <td>0</td>\n",
              "      <td>0</td>\n",
              "      <td>5</td>\n",
              "      <td>0</td>\n",
              "      <td>0</td>\n",
              "      <td>863581</td>\n",
              "      <td>1261</td>\n",
              "      <td>2232097337</td>\n",
              "      <td>0</td>\n",
              "      <td>5</td>\n",
              "      <td>218</td>\n",
              "      <td>1</td>\n",
              "      <td>0</td>\n",
              "      <td>0</td>\n",
              "      <td>5</td>\n",
              "    </tr>\n",
              "    <tr>\n",
              "      <th>3</th>\n",
              "      <td>1</td>\n",
              "      <td>0</td>\n",
              "      <td>44</td>\n",
              "      <td>268</td>\n",
              "      <td>1</td>\n",
              "      <td>2</td>\n",
              "      <td>55</td>\n",
              "      <td>128</td>\n",
              "      <td>57931</td>\n",
              "      <td>0</td>\n",
              "      <td>0</td>\n",
              "      <td>0</td>\n",
              "      <td>865000</td>\n",
              "      <td>370000</td>\n",
              "      <td>863581</td>\n",
              "      <td>1261</td>\n",
              "      <td>2232097337</td>\n",
              "      <td>691</td>\n",
              "      <td>1384</td>\n",
              "      <td>7212</td>\n",
              "      <td>1</td>\n",
              "      <td>0</td>\n",
              "      <td>0</td>\n",
              "      <td>0</td>\n",
              "    </tr>\n",
              "    <tr>\n",
              "      <th>4</th>\n",
              "      <td>1</td>\n",
              "      <td>0</td>\n",
              "      <td>44</td>\n",
              "      <td>12322</td>\n",
              "      <td>1</td>\n",
              "      <td>2</td>\n",
              "      <td>50</td>\n",
              "      <td>174</td>\n",
              "      <td>16471</td>\n",
              "      <td>0</td>\n",
              "      <td>0</td>\n",
              "      <td>5</td>\n",
              "      <td>1150000</td>\n",
              "      <td>0</td>\n",
              "      <td>863581</td>\n",
              "      <td>1261</td>\n",
              "      <td>2232097337</td>\n",
              "      <td>30</td>\n",
              "      <td>560</td>\n",
              "      <td>5735</td>\n",
              "      <td>1</td>\n",
              "      <td>0</td>\n",
              "      <td>0</td>\n",
              "      <td>5</td>\n",
              "    </tr>\n",
              "    <tr>\n",
              "      <th>...</th>\n",
              "      <td>...</td>\n",
              "      <td>...</td>\n",
              "      <td>...</td>\n",
              "      <td>...</td>\n",
              "      <td>...</td>\n",
              "      <td>...</td>\n",
              "      <td>...</td>\n",
              "      <td>...</td>\n",
              "      <td>...</td>\n",
              "      <td>...</td>\n",
              "      <td>...</td>\n",
              "      <td>...</td>\n",
              "      <td>...</td>\n",
              "      <td>...</td>\n",
              "      <td>...</td>\n",
              "      <td>...</td>\n",
              "      <td>...</td>\n",
              "      <td>...</td>\n",
              "      <td>...</td>\n",
              "      <td>...</td>\n",
              "      <td>...</td>\n",
              "      <td>...</td>\n",
              "      <td>...</td>\n",
              "      <td>...</td>\n",
              "    </tr>\n",
              "    <tr>\n",
              "      <th>17711</th>\n",
              "      <td>20</td>\n",
              "      <td>2</td>\n",
              "      <td>1088</td>\n",
              "      <td>16283</td>\n",
              "      <td>0</td>\n",
              "      <td>0</td>\n",
              "      <td>28</td>\n",
              "      <td>439</td>\n",
              "      <td>20620</td>\n",
              "      <td>0</td>\n",
              "      <td>0</td>\n",
              "      <td>0</td>\n",
              "      <td>1168500</td>\n",
              "      <td>9000</td>\n",
              "      <td>1120290</td>\n",
              "      <td>1886</td>\n",
              "      <td>3025394518</td>\n",
              "      <td>0</td>\n",
              "      <td>0</td>\n",
              "      <td>0</td>\n",
              "      <td>1</td>\n",
              "      <td>0</td>\n",
              "      <td>0</td>\n",
              "      <td>0</td>\n",
              "    </tr>\n",
              "    <tr>\n",
              "      <th>17712</th>\n",
              "      <td>20</td>\n",
              "      <td>2</td>\n",
              "      <td>1088</td>\n",
              "      <td>1556</td>\n",
              "      <td>1</td>\n",
              "      <td>0</td>\n",
              "      <td>43</td>\n",
              "      <td>251</td>\n",
              "      <td>14686</td>\n",
              "      <td>0</td>\n",
              "      <td>0</td>\n",
              "      <td>11</td>\n",
              "      <td>4890000</td>\n",
              "      <td>1020000</td>\n",
              "      <td>1120290</td>\n",
              "      <td>1886</td>\n",
              "      <td>3025394518</td>\n",
              "      <td>16</td>\n",
              "      <td>1122</td>\n",
              "      <td>32255</td>\n",
              "      <td>2</td>\n",
              "      <td>0</td>\n",
              "      <td>0</td>\n",
              "      <td>22</td>\n",
              "    </tr>\n",
              "    <tr>\n",
              "      <th>17713</th>\n",
              "      <td>33</td>\n",
              "      <td>2</td>\n",
              "      <td>1090</td>\n",
              "      <td>1631</td>\n",
              "      <td>1</td>\n",
              "      <td>0</td>\n",
              "      <td>63</td>\n",
              "      <td>631</td>\n",
              "      <td>434244</td>\n",
              "      <td>1</td>\n",
              "      <td>18</td>\n",
              "      <td>5</td>\n",
              "      <td>1287851556</td>\n",
              "      <td>11535000</td>\n",
              "      <td>1001206</td>\n",
              "      <td>74</td>\n",
              "      <td>77400108</td>\n",
              "      <td>22</td>\n",
              "      <td>51</td>\n",
              "      <td>252</td>\n",
              "      <td>1</td>\n",
              "      <td>1</td>\n",
              "      <td>18</td>\n",
              "      <td>5</td>\n",
              "    </tr>\n",
              "    <tr>\n",
              "      <th>17714</th>\n",
              "      <td>33</td>\n",
              "      <td>2</td>\n",
              "      <td>1090</td>\n",
              "      <td>7834</td>\n",
              "      <td>1</td>\n",
              "      <td>0</td>\n",
              "      <td>49</td>\n",
              "      <td>250</td>\n",
              "      <td>428015</td>\n",
              "      <td>0</td>\n",
              "      <td>0</td>\n",
              "      <td>11</td>\n",
              "      <td>903663001</td>\n",
              "      <td>0</td>\n",
              "      <td>1001206</td>\n",
              "      <td>74</td>\n",
              "      <td>77400108</td>\n",
              "      <td>301</td>\n",
              "      <td>1110</td>\n",
              "      <td>7710</td>\n",
              "      <td>1</td>\n",
              "      <td>0</td>\n",
              "      <td>0</td>\n",
              "      <td>11</td>\n",
              "    </tr>\n",
              "    <tr>\n",
              "      <th>17715</th>\n",
              "      <td>33</td>\n",
              "      <td>2</td>\n",
              "      <td>1090</td>\n",
              "      <td>1953</td>\n",
              "      <td>1</td>\n",
              "      <td>0</td>\n",
              "      <td>47</td>\n",
              "      <td>128</td>\n",
              "      <td>138947</td>\n",
              "      <td>0</td>\n",
              "      <td>3</td>\n",
              "      <td>1</td>\n",
              "      <td>58577327</td>\n",
              "      <td>5250000</td>\n",
              "      <td>1001206</td>\n",
              "      <td>74</td>\n",
              "      <td>77400108</td>\n",
              "      <td>691</td>\n",
              "      <td>1384</td>\n",
              "      <td>7212</td>\n",
              "      <td>1</td>\n",
              "      <td>0</td>\n",
              "      <td>3</td>\n",
              "      <td>1</td>\n",
              "    </tr>\n",
              "  </tbody>\n",
              "</table>\n",
              "<p>17716 rows × 24 columns</p>\n",
              "</div>"
            ],
            "text/plain": [
              "       STATE  YEAR  ...  criminal_by_party_per_cons  education_by_party_per_cons\n",
              "0          1     0  ...                           0                            5\n",
              "1          1     0  ...                           0                            1\n",
              "2          1     0  ...                           0                            5\n",
              "3          1     0  ...                           0                            0\n",
              "4          1     0  ...                           0                            5\n",
              "...      ...   ...  ...                         ...                          ...\n",
              "17711     20     2  ...                           0                            0\n",
              "17712     20     2  ...                           0                           22\n",
              "17713     33     2  ...                          18                            5\n",
              "17714     33     2  ...                           0                           11\n",
              "17715     33     2  ...                           3                            1\n",
              "\n",
              "[17716 rows x 24 columns]"
            ]
          },
          "metadata": {},
          "execution_count": 216
        }
      ]
    },
    {
      "cell_type": "code",
      "metadata": {
        "colab": {
          "base_uri": "https://localhost:8080/"
        },
        "id": "NQdJ1pHHUfXD",
        "outputId": "ab96b55b-c685-40ee-912d-d228c24da39a"
      },
      "source": [
        "# scaling values into 0-1 range\n",
        "scaler = MinMaxScaler(feature_range=(0, 1))\n",
        "features=dataset.columns\n",
        "dataset[features] = scaler.fit_transform(dataset[features])\n",
        "# separate train features and label\n",
        "y = dataset[\"WINNER\"]\n",
        "X = dataset.drop(labels=[\"WINNER\"], axis=1)\n",
        "# split dataset into train and test data\n",
        "X_train, X_test, y_train, y_test = train_test_split(X, y, test_size=0.2, random_state=1, stratify=y)\n",
        "# train and test knn model\n",
        "knn = KNeighborsClassifier()\n",
        "knn.fit(X_train, y_train)\n",
        "knn.predict(X_test)\n",
        "print(\"Testing Accuracy is: \", knn.score(X_test, y_test)*100, \"%\")"
      ],
      "execution_count": null,
      "outputs": [
        {
          "output_type": "stream",
          "name": "stdout",
          "text": [
            "Testing Accuracy is:  97.17832957110609 %\n"
          ]
        }
      ]
    },
    {
      "cell_type": "markdown",
      "metadata": {
        "id": "pxsvoQQdiKbL"
      },
      "source": [
        "## Fifth Model: Identifying features with more weightage"
      ]
    },
    {
      "cell_type": "markdown",
      "metadata": {
        "id": "2hRWejVxgzrA"
      },
      "source": [
        ""
      ]
    },
    {
      "cell_type": "code",
      "metadata": {
        "colab": {
          "base_uri": "https://localhost:8080/"
        },
        "id": "01V9nJeKUr-_",
        "outputId": "fbfb1563-205e-49ca-897d-62a5c06e4569"
      },
      "source": [
        "# apply SelectKBest class to extract top most features\n",
        "bestfeatures = SelectKBest(score_func=chi2, k=\"all\")\n",
        "fit = bestfeatures.fit(X, y)\n",
        "dfscores = pd.DataFrame(fit.scores_)\n",
        "dfcolumns = pd.DataFrame(X.columns)\n",
        "# concat two dataframes for better visualization \n",
        "featureScores = pd.concat([dfcolumns, dfscores], axis=1)\n",
        "featureScores.columns = ['Specs', 'Score']\n",
        "print(featureScores.sort_values('Score',ascending=False))"
      ],
      "execution_count": null,
      "outputs": [
        {
          "output_type": "stream",
          "name": "stdout",
          "text": [
            "                                 Specs        Score\n",
            "20     winning_seats_by_party_per_cons  5298.122154\n",
            "8                          TOTAL_VOTES  2834.760957\n",
            "16              winning_seats_by_party  2438.211037\n",
            "18                  education_by_party   319.128383\n",
            "19  total_candidates_by_party_per_cons   159.789413\n",
            "1                                 YEAR   139.068185\n",
            "22         education_by_party_per_cons   103.018210\n",
            "17                   criminal_by_party    51.446672\n",
            "6                                  AGE    45.173023\n",
            "12                         LIABILITIES    27.935248\n",
            "7                                PARTY    20.571177\n",
            "10                           EDUCATION    15.606309\n",
            "9                       CRIMINAL_CASES     4.400821\n",
            "13                      TOTAL_ELECTORS     4.320566\n",
            "14                total_cons_per_state     4.027907\n",
            "11                              ASSETS     3.859139\n",
            "15              total_voters_per_state     3.302984\n",
            "5                             CATEGORY     3.237467\n",
            "4                               GENDER     1.615497\n",
            "3                                 NAME     1.313508\n",
            "2                         CONSTITUENCY     0.636062\n",
            "0                                STATE     0.091742\n",
            "21          criminal_by_party_per_cons     0.045498\n"
          ]
        }
      ]
    },
    {
      "cell_type": "code",
      "metadata": {
        "id": "6F77jrfTIOvw"
      },
      "source": [
        "X.drop(labels=[\"CRIMINAL_CASES\", \"TOTAL_ELECTORS\", \"total_cons_per_state\", \"ASSETS\",\"total_voters_per_state\", \"CATEGORY\", \"GENDER\",\"NAME\",\"CONSTITUENCY\" ,\"criminal_by_party_per_cons\"], axis=1, inplace=True)"
      ],
      "execution_count": null,
      "outputs": []
    },
    {
      "cell_type": "code",
      "metadata": {
        "colab": {
          "base_uri": "https://localhost:8080/"
        },
        "id": "0nXANII2Vzc_",
        "outputId": "7df557b4-3bba-4ced-ed9b-6b4a966d1289"
      },
      "source": [
        "# separate train features and label\n",
        "y = dataset[\"WINNER\"]\n",
        "# split dataset into train and test data\n",
        "X_train, X_test, y_train, y_test = train_test_split(X, y, test_size=0.2, random_state=1, stratify=y)\n",
        "# train and test knn model\n",
        "knn = KNeighborsClassifier()\n",
        "knn.fit(X_train, y_train)\n",
        "knn.predict(X_test)\n",
        "print(\"Testing Accuracy is: \", knn.score(X_test, y_test)*100, \"%\")"
      ],
      "execution_count": null,
      "outputs": [
        {
          "output_type": "stream",
          "name": "stdout",
          "text": [
            "Testing Accuracy is:  98.9841986455982 %\n"
          ]
        }
      ]
    }
  ]
}