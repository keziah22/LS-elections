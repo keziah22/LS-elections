{
  "nbformat": 4,
  "nbformat_minor": 0,
  "metadata": {
    "colab": {
      "name": "twitter_part_2.ipynb",
      "provenance": [],
      "collapsed_sections": [
        "6M44Cay3CVXA"
      ]
    },
    "kernelspec": {
      "display_name": "Python 3 (ipykernel)",
      "language": "python",
      "name": "python3"
    },
    "language_info": {
      "codemirror_mode": {
        "name": "ipython",
        "version": 3
      },
      "file_extension": ".py",
      "mimetype": "text/x-python",
      "name": "python",
      "nbconvert_exporter": "python",
      "pygments_lexer": "ipython3",
      "version": "3.8.12"
    }
  },
  "cells": [
    {
      "cell_type": "markdown",
      "metadata": {
        "id": "Ynkj_9gXROAN"
      },
      "source": [
        "Twitter sentiment analysis"
      ]
    },
    {
      "cell_type": "code",
      "metadata": {
        "id": "nhneA8faRLmT"
      },
      "source": [
        "import re,csv\n",
        "import pandas as pd \n",
        "import numpy as np \n",
        "import matplotlib.pyplot as plt \n",
        "import seaborn as sns\n",
        "import string\n",
        "import nltk\n",
        "from textblob import TextBlob\n",
        "import warnings \n",
        "warnings.filterwarnings(\"ignore\", category=DeprecationWarning)\n",
        "\n",
        "%matplotlib inline"
      ],
      "execution_count": null,
      "outputs": []
    },
    {
      "cell_type": "markdown",
      "metadata": {
        "id": "nhdtv3aWSNeF"
      },
      "source": [
        "loading the dataset"
      ]
    },
    {
      "cell_type": "code",
      "metadata": {
        "colab": {
          "resources": {
            "http://localhost:8080/nbextensions/google.colab/files.js": {
              "data": "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",
              "ok": true,
              "headers": [
                [
                  "content-type",
                  "application/javascript"
                ]
              ],
              "status": 200,
              "status_text": ""
            }
          },
          "base_uri": "https://localhost:8080/",
          "height": 39
        },
        "id": "3pMzBNsIR-eo",
        "outputId": "07198414-07d1-42ba-8993-65f6d92ca1c3"
      },
      "source": [
        "from google.colab import files\n",
        "data=files.upload()"
      ],
      "execution_count": null,
      "outputs": [
        {
          "output_type": "display_data",
          "data": {
            "text/html": [
              "\n",
              "     <input type=\"file\" id=\"files-087e15d4-e9fc-479a-a866-eda31b26caed\" name=\"files[]\" multiple disabled\n",
              "        style=\"border:none\" />\n",
              "     <output id=\"result-087e15d4-e9fc-479a-a866-eda31b26caed\">\n",
              "      Upload widget is only available when the cell has been executed in the\n",
              "      current browser session. Please rerun this cell to enable.\n",
              "      </output>\n",
              "      <script src=\"/nbextensions/google.colab/files.js\"></script> "
            ],
            "text/plain": [
              "<IPython.core.display.HTML object>"
            ]
          },
          "metadata": {}
        }
      ]
    },
    {
      "cell_type": "code",
      "metadata": {
        "id": "0wu_dlvV6qBo",
        "colab": {
          "base_uri": "https://localhost:8080/"
        },
        "outputId": "de5417d7-ef2c-4264-c651-386d2f25a251"
      },
      "source": [
        "from google.colab import drive\n",
        "drive.mount('/content/drive/')"
      ],
      "execution_count": null,
      "outputs": [
        {
          "output_type": "stream",
          "name": "stdout",
          "text": [
            "Mounted at /content/drive/\n"
          ]
        }
      ]
    },
    {
      "cell_type": "code",
      "metadata": {
        "id": "MESC1CO_RjDJ",
        "colab": {
          "base_uri": "https://localhost:8080/"
        },
        "outputId": "6ff20c35-339f-4240-94eb-704bff1c41ae"
      },
      "source": [
        "data=pd.read_csv(\"/content/drive/Shareddrives/Group No 1/Aaron Sir Project/twitter_data.csv\")"
      ],
      "execution_count": null,
      "outputs": [
        {
          "output_type": "stream",
          "name": "stderr",
          "text": [
            "/usr/local/lib/python3.7/dist-packages/IPython/core/interactiveshell.py:2718: DtypeWarning: Columns (15) have mixed types.Specify dtype option on import or set low_memory=False.\n",
            "  interactivity=interactivity, compiler=compiler, result=result)\n"
          ]
        }
      ]
    },
    {
      "cell_type": "code",
      "metadata": {
        "id": "7ZXRn9JqUmQO",
        "colab": {
          "base_uri": "https://localhost:8080/"
        },
        "outputId": "0ee2ba13-0514-4e49-f4ab-83b520805176"
      },
      "source": [
        "data.columns"
      ],
      "execution_count": null,
      "outputs": [
        {
          "output_type": "execute_result",
          "data": {
            "text/plain": [
              "Index(['user_id', 'status_id', 'created_at', 'screen_name', 'text', 'source',\n",
              "       'display_text_width', 'reply_to_status_id', 'reply_to_user_id',\n",
              "       'reply_to_screen_name', 'is_quote', 'is_retweet', 'favorite_count',\n",
              "       'retweet_count', 'hashtags', 'symbols', 'urls_url', 'urls_t.co',\n",
              "       'urls_expanded_url', 'media_url', 'media_t.co', 'media_expanded_url',\n",
              "       'media_type', 'ext_media_url', 'ext_media_t.co',\n",
              "       'ext_media_expanded_url', 'ext_media_type', 'mentions_user_id',\n",
              "       'mentions_screen_name', 'lang', 'quoted_status_id', 'quoted_text',\n",
              "       'quoted_created_at', 'quoted_source', 'quoted_favorite_count',\n",
              "       'quoted_retweet_count', 'quoted_user_id', 'quoted_screen_name',\n",
              "       'quoted_name', 'quoted_followers_count', 'quoted_friends_count',\n",
              "       'quoted_statuses_count', 'quoted_location', 'quoted_description',\n",
              "       'quoted_verified', 'retweet_status_id', 'retweet_text',\n",
              "       'retweet_created_at', 'retweet_source', 'retweet_favorite_count',\n",
              "       'retweet_retweet_count', 'retweet_user_id', 'retweet_screen_name',\n",
              "       'retweet_name', 'retweet_followers_count', 'retweet_friends_count',\n",
              "       'retweet_statuses_count', 'retweet_location', 'retweet_description',\n",
              "       'retweet_verified', 'place_url', 'place_name', 'place_full_name',\n",
              "       'place_type', 'country', 'country_code', 'geo_coords', 'coords_coords',\n",
              "       'bbox_coords', 'status_url', 'name', 'location', 'description', 'url',\n",
              "       'protected', 'followers_count', 'friends_count', 'listed_count',\n",
              "       'statuses_count', 'favourites_count', 'account_created_at', 'verified',\n",
              "       'profile_url', 'profile_expanded_url', 'account_lang',\n",
              "       'profile_banner_url', 'profile_background_url', 'profile_image_url'],\n",
              "      dtype='object')"
            ]
          },
          "metadata": {},
          "execution_count": 5
        }
      ]
    },
    {
      "cell_type": "code",
      "metadata": {
        "id": "ESclJMW7ashH",
        "scrolled": true,
        "colab": {
          "base_uri": "https://localhost:8080/",
          "height": 550
        },
        "outputId": "4313098c-ebb5-4083-9569-246946af389f"
      },
      "source": [
        "data.head()"
      ],
      "execution_count": null,
      "outputs": [
        {
          "output_type": "execute_result",
          "data": {
            "text/html": [
              "<div>\n",
              "<style scoped>\n",
              "    .dataframe tbody tr th:only-of-type {\n",
              "        vertical-align: middle;\n",
              "    }\n",
              "\n",
              "    .dataframe tbody tr th {\n",
              "        vertical-align: top;\n",
              "    }\n",
              "\n",
              "    .dataframe thead th {\n",
              "        text-align: right;\n",
              "    }\n",
              "</style>\n",
              "<table border=\"1\" class=\"dataframe\">\n",
              "  <thead>\n",
              "    <tr style=\"text-align: right;\">\n",
              "      <th></th>\n",
              "      <th>user_id</th>\n",
              "      <th>status_id</th>\n",
              "      <th>created_at</th>\n",
              "      <th>screen_name</th>\n",
              "      <th>text</th>\n",
              "      <th>source</th>\n",
              "      <th>display_text_width</th>\n",
              "      <th>reply_to_status_id</th>\n",
              "      <th>reply_to_user_id</th>\n",
              "      <th>reply_to_screen_name</th>\n",
              "      <th>is_quote</th>\n",
              "      <th>is_retweet</th>\n",
              "      <th>favorite_count</th>\n",
              "      <th>retweet_count</th>\n",
              "      <th>hashtags</th>\n",
              "      <th>symbols</th>\n",
              "      <th>urls_url</th>\n",
              "      <th>urls_t.co</th>\n",
              "      <th>urls_expanded_url</th>\n",
              "      <th>media_url</th>\n",
              "      <th>media_t.co</th>\n",
              "      <th>media_expanded_url</th>\n",
              "      <th>media_type</th>\n",
              "      <th>ext_media_url</th>\n",
              "      <th>ext_media_t.co</th>\n",
              "      <th>ext_media_expanded_url</th>\n",
              "      <th>ext_media_type</th>\n",
              "      <th>mentions_user_id</th>\n",
              "      <th>mentions_screen_name</th>\n",
              "      <th>lang</th>\n",
              "      <th>quoted_status_id</th>\n",
              "      <th>quoted_text</th>\n",
              "      <th>quoted_created_at</th>\n",
              "      <th>quoted_source</th>\n",
              "      <th>quoted_favorite_count</th>\n",
              "      <th>quoted_retweet_count</th>\n",
              "      <th>quoted_user_id</th>\n",
              "      <th>quoted_screen_name</th>\n",
              "      <th>quoted_name</th>\n",
              "      <th>quoted_followers_count</th>\n",
              "      <th>...</th>\n",
              "      <th>retweet_source</th>\n",
              "      <th>retweet_favorite_count</th>\n",
              "      <th>retweet_retweet_count</th>\n",
              "      <th>retweet_user_id</th>\n",
              "      <th>retweet_screen_name</th>\n",
              "      <th>retweet_name</th>\n",
              "      <th>retweet_followers_count</th>\n",
              "      <th>retweet_friends_count</th>\n",
              "      <th>retweet_statuses_count</th>\n",
              "      <th>retweet_location</th>\n",
              "      <th>retweet_description</th>\n",
              "      <th>retweet_verified</th>\n",
              "      <th>place_url</th>\n",
              "      <th>place_name</th>\n",
              "      <th>place_full_name</th>\n",
              "      <th>place_type</th>\n",
              "      <th>country</th>\n",
              "      <th>country_code</th>\n",
              "      <th>geo_coords</th>\n",
              "      <th>coords_coords</th>\n",
              "      <th>bbox_coords</th>\n",
              "      <th>status_url</th>\n",
              "      <th>name</th>\n",
              "      <th>location</th>\n",
              "      <th>description</th>\n",
              "      <th>url</th>\n",
              "      <th>protected</th>\n",
              "      <th>followers_count</th>\n",
              "      <th>friends_count</th>\n",
              "      <th>listed_count</th>\n",
              "      <th>statuses_count</th>\n",
              "      <th>favourites_count</th>\n",
              "      <th>account_created_at</th>\n",
              "      <th>verified</th>\n",
              "      <th>profile_url</th>\n",
              "      <th>profile_expanded_url</th>\n",
              "      <th>account_lang</th>\n",
              "      <th>profile_banner_url</th>\n",
              "      <th>profile_background_url</th>\n",
              "      <th>profile_image_url</th>\n",
              "    </tr>\n",
              "  </thead>\n",
              "  <tbody>\n",
              "    <tr>\n",
              "      <th>0</th>\n",
              "      <td>x53414786</td>\n",
              "      <td>x1108007155251249152</td>\n",
              "      <td>2019-03-19 14:07:46</td>\n",
              "      <td>Actor_Siddharth</td>\n",
              "      <td>I've spoken out against every major political ...</td>\n",
              "      <td>Twitter Web App</td>\n",
              "      <td>279</td>\n",
              "      <td>NaN</td>\n",
              "      <td>NaN</td>\n",
              "      <td>NaN</td>\n",
              "      <td>False</td>\n",
              "      <td>False</td>\n",
              "      <td>10757</td>\n",
              "      <td>2828</td>\n",
              "      <td>CHOWKIDAR BJP</td>\n",
              "      <td>NaN</td>\n",
              "      <td>NaN</td>\n",
              "      <td>NaN</td>\n",
              "      <td>NaN</td>\n",
              "      <td>NaN</td>\n",
              "      <td>NaN</td>\n",
              "      <td>NaN</td>\n",
              "      <td>NaN</td>\n",
              "      <td>NaN</td>\n",
              "      <td>NaN</td>\n",
              "      <td>NaN</td>\n",
              "      <td>NaN</td>\n",
              "      <td>NaN</td>\n",
              "      <td>NaN</td>\n",
              "      <td>en</td>\n",
              "      <td>NaN</td>\n",
              "      <td>NaN</td>\n",
              "      <td>NaN</td>\n",
              "      <td>NaN</td>\n",
              "      <td>NaN</td>\n",
              "      <td>NaN</td>\n",
              "      <td>NaN</td>\n",
              "      <td>NaN</td>\n",
              "      <td>NaN</td>\n",
              "      <td>NaN</td>\n",
              "      <td>...</td>\n",
              "      <td>NaN</td>\n",
              "      <td>NaN</td>\n",
              "      <td>NaN</td>\n",
              "      <td>NaN</td>\n",
              "      <td>NaN</td>\n",
              "      <td>NaN</td>\n",
              "      <td>NaN</td>\n",
              "      <td>NaN</td>\n",
              "      <td>NaN</td>\n",
              "      <td>NaN</td>\n",
              "      <td>NaN</td>\n",
              "      <td>NaN</td>\n",
              "      <td>NaN</td>\n",
              "      <td>NaN</td>\n",
              "      <td>NaN</td>\n",
              "      <td>NaN</td>\n",
              "      <td>NaN</td>\n",
              "      <td>NaN</td>\n",
              "      <td>NA NA</td>\n",
              "      <td>NA NA</td>\n",
              "      <td>NA NA NA NA NA NA NA NA</td>\n",
              "      <td>https://twitter.com/Actor_Siddharth/status/110...</td>\n",
              "      <td>Siddharth</td>\n",
              "      <td>Dark side of the moon</td>\n",
              "      <td>Indian. Actor. Producer. Musician. Believer. I...</td>\n",
              "      <td>NaN</td>\n",
              "      <td>False</td>\n",
              "      <td>4115243</td>\n",
              "      <td>75</td>\n",
              "      <td>5388</td>\n",
              "      <td>13776</td>\n",
              "      <td>474</td>\n",
              "      <td>2009-07-03 15:33:34</td>\n",
              "      <td>True</td>\n",
              "      <td>NaN</td>\n",
              "      <td>NaN</td>\n",
              "      <td>en</td>\n",
              "      <td>NaN</td>\n",
              "      <td>http://abs.twimg.com/images/themes/theme5/bg.gif</td>\n",
              "      <td>http://pbs.twimg.com/profile_images/1095897454...</td>\n",
              "    </tr>\n",
              "    <tr>\n",
              "      <th>1</th>\n",
              "      <td>x21014078</td>\n",
              "      <td>x1108223274222116864</td>\n",
              "      <td>2019-03-20 04:26:33</td>\n",
              "      <td>svaradarajan</td>\n",
              "      <td>Bhakts are thrilled one of the four men arrest...</td>\n",
              "      <td>Twitter Web Client</td>\n",
              "      <td>276</td>\n",
              "      <td>NaN</td>\n",
              "      <td>NaN</td>\n",
              "      <td>NaN</td>\n",
              "      <td>True</td>\n",
              "      <td>False</td>\n",
              "      <td>4490</td>\n",
              "      <td>1681</td>\n",
              "      <td>NaN</td>\n",
              "      <td>NaN</td>\n",
              "      <td>twitter.com/ShefVaidya/sta…</td>\n",
              "      <td>https://t.co/Wb0LMfSURL</td>\n",
              "      <td>https://twitter.com/ShefVaidya/status/11082077...</td>\n",
              "      <td>NaN</td>\n",
              "      <td>NaN</td>\n",
              "      <td>NaN</td>\n",
              "      <td>NaN</td>\n",
              "      <td>NaN</td>\n",
              "      <td>NaN</td>\n",
              "      <td>NaN</td>\n",
              "      <td>NaN</td>\n",
              "      <td>x19929890</td>\n",
              "      <td>BDUTT</td>\n",
              "      <td>en</td>\n",
              "      <td>x1108207731024945152</td>\n",
              "      <td>So @BDUTT, when are you going to inform the wo...</td>\n",
              "      <td>2019-03-20 03:24:47</td>\n",
              "      <td>Twitter for iPhone</td>\n",
              "      <td>4442.0</td>\n",
              "      <td>3046.0</td>\n",
              "      <td>x1934388686</td>\n",
              "      <td>ShefVaidya</td>\n",
              "      <td>Shefali Vaidya ஷெஃபாலி வைத்யா शेफाली वैद्य</td>\n",
              "      <td>325977.0</td>\n",
              "      <td>...</td>\n",
              "      <td>NaN</td>\n",
              "      <td>NaN</td>\n",
              "      <td>NaN</td>\n",
              "      <td>NaN</td>\n",
              "      <td>NaN</td>\n",
              "      <td>NaN</td>\n",
              "      <td>NaN</td>\n",
              "      <td>NaN</td>\n",
              "      <td>NaN</td>\n",
              "      <td>NaN</td>\n",
              "      <td>NaN</td>\n",
              "      <td>NaN</td>\n",
              "      <td>NaN</td>\n",
              "      <td>NaN</td>\n",
              "      <td>NaN</td>\n",
              "      <td>NaN</td>\n",
              "      <td>NaN</td>\n",
              "      <td>NaN</td>\n",
              "      <td>NA NA</td>\n",
              "      <td>NA NA</td>\n",
              "      <td>NA NA NA NA NA NA NA NA</td>\n",
              "      <td>https://twitter.com/svaradarajan/status/110822...</td>\n",
              "      <td>Siddharth</td>\n",
              "      <td>New Delhi, India</td>\n",
              "      <td>Founding Editor of The Wire.</td>\n",
              "      <td>https://t.co/yPVMOk3Vw3</td>\n",
              "      <td>False</td>\n",
              "      <td>486943</td>\n",
              "      <td>865</td>\n",
              "      <td>1327</td>\n",
              "      <td>42220</td>\n",
              "      <td>503</td>\n",
              "      <td>2009-02-16 19:02:23</td>\n",
              "      <td>True</td>\n",
              "      <td>https://t.co/yPVMOk3Vw3</td>\n",
              "      <td>http://thewire.in</td>\n",
              "      <td>en</td>\n",
              "      <td>https://pbs.twimg.com/profile_banners/21014078...</td>\n",
              "      <td>http://abs.twimg.com/images/themes/theme1/bg.png</td>\n",
              "      <td>http://pbs.twimg.com/profile_images/1100960124...</td>\n",
              "    </tr>\n",
              "    <tr>\n",
              "      <th>2</th>\n",
              "      <td>x207809313</td>\n",
              "      <td>x1108040595434397697</td>\n",
              "      <td>2019-03-19 16:20:39</td>\n",
              "      <td>BJP4India</td>\n",
              "      <td>You may now make #MainBhiChowkidar song as you...</td>\n",
              "      <td>Twitter Web Client</td>\n",
              "      <td>268</td>\n",
              "      <td>NaN</td>\n",
              "      <td>NaN</td>\n",
              "      <td>NaN</td>\n",
              "      <td>False</td>\n",
              "      <td>False</td>\n",
              "      <td>7597</td>\n",
              "      <td>2864</td>\n",
              "      <td>MainBhiChowkidar</td>\n",
              "      <td>NaN</td>\n",
              "      <td>NaN</td>\n",
              "      <td>NaN</td>\n",
              "      <td>NaN</td>\n",
              "      <td>http://pbs.twimg.com/media/D2CM9lKVAAA0w-s.jpg</td>\n",
              "      <td>https://t.co/9YDshjNWyN</td>\n",
              "      <td>https://twitter.com/BJP4India/status/110804059...</td>\n",
              "      <td>photo</td>\n",
              "      <td>http://pbs.twimg.com/media/D2CM9lKVAAA0w-s.jpg</td>\n",
              "      <td>https://t.co/9YDshjNWyN</td>\n",
              "      <td>https://twitter.com/BJP4India/status/110804059...</td>\n",
              "      <td>NaN</td>\n",
              "      <td>NaN</td>\n",
              "      <td>NaN</td>\n",
              "      <td>en</td>\n",
              "      <td>NaN</td>\n",
              "      <td>NaN</td>\n",
              "      <td>NaN</td>\n",
              "      <td>NaN</td>\n",
              "      <td>NaN</td>\n",
              "      <td>NaN</td>\n",
              "      <td>NaN</td>\n",
              "      <td>NaN</td>\n",
              "      <td>NaN</td>\n",
              "      <td>NaN</td>\n",
              "      <td>...</td>\n",
              "      <td>NaN</td>\n",
              "      <td>NaN</td>\n",
              "      <td>NaN</td>\n",
              "      <td>NaN</td>\n",
              "      <td>NaN</td>\n",
              "      <td>NaN</td>\n",
              "      <td>NaN</td>\n",
              "      <td>NaN</td>\n",
              "      <td>NaN</td>\n",
              "      <td>NaN</td>\n",
              "      <td>NaN</td>\n",
              "      <td>NaN</td>\n",
              "      <td>NaN</td>\n",
              "      <td>NaN</td>\n",
              "      <td>NaN</td>\n",
              "      <td>NaN</td>\n",
              "      <td>NaN</td>\n",
              "      <td>NaN</td>\n",
              "      <td>NA NA</td>\n",
              "      <td>NA NA</td>\n",
              "      <td>NA NA NA NA NA NA NA NA</td>\n",
              "      <td>https://twitter.com/BJP4India/status/110804059...</td>\n",
              "      <td>BJP</td>\n",
              "      <td>6-A, Deen Dayal Upadhyay Marg,</td>\n",
              "      <td>Official Twitter account of the Bharatiya Jana...</td>\n",
              "      <td>https://t.co/cjXqo5byqb</td>\n",
              "      <td>False</td>\n",
              "      <td>10742860</td>\n",
              "      <td>2</td>\n",
              "      <td>2547</td>\n",
              "      <td>180122</td>\n",
              "      <td>0</td>\n",
              "      <td>2010-10-26 02:19:07</td>\n",
              "      <td>True</td>\n",
              "      <td>https://t.co/cjXqo5byqb</td>\n",
              "      <td>http://www.bjp.org</td>\n",
              "      <td>en</td>\n",
              "      <td>https://pbs.twimg.com/profile_banners/20780931...</td>\n",
              "      <td>http://abs.twimg.com/images/themes/theme1/bg.png</td>\n",
              "      <td>http://pbs.twimg.com/profile_images/8125311080...</td>\n",
              "    </tr>\n",
              "    <tr>\n",
              "      <th>3</th>\n",
              "      <td>x876223384639619073</td>\n",
              "      <td>x1108490128702369793</td>\n",
              "      <td>2019-03-20 22:06:56</td>\n",
              "      <td>commo_nic_ation</td>\n",
              "      <td>Breakfast with chief chowkidar in Australia. F...</td>\n",
              "      <td>Twitter for Android</td>\n",
              "      <td>111</td>\n",
              "      <td>NaN</td>\n",
              "      <td>NaN</td>\n",
              "      <td>NaN</td>\n",
              "      <td>False</td>\n",
              "      <td>True</td>\n",
              "      <td>0</td>\n",
              "      <td>1253</td>\n",
              "      <td>NaN</td>\n",
              "      <td>NaN</td>\n",
              "      <td>NaN</td>\n",
              "      <td>NaN</td>\n",
              "      <td>NaN</td>\n",
              "      <td>http://pbs.twimg.com/media/D2FNI4OWwAEuXKD.jpg</td>\n",
              "      <td>https://t.co/cdF1nbUnLj</td>\n",
              "      <td>https://twitter.com/bainjal/status/11082518124...</td>\n",
              "      <td>photo</td>\n",
              "      <td>http://pbs.twimg.com/media/D2FNI4OWwAEuXKD.jpg</td>\n",
              "      <td>https://t.co/cdF1nbUnLj</td>\n",
              "      <td>https://twitter.com/bainjal/status/11082518124...</td>\n",
              "      <td>NaN</td>\n",
              "      <td>x89732309</td>\n",
              "      <td>bainjal</td>\n",
              "      <td>en</td>\n",
              "      <td>NaN</td>\n",
              "      <td>NaN</td>\n",
              "      <td>NaN</td>\n",
              "      <td>NaN</td>\n",
              "      <td>NaN</td>\n",
              "      <td>NaN</td>\n",
              "      <td>NaN</td>\n",
              "      <td>NaN</td>\n",
              "      <td>NaN</td>\n",
              "      <td>NaN</td>\n",
              "      <td>...</td>\n",
              "      <td>Twitter for iPhone</td>\n",
              "      <td>2868.0</td>\n",
              "      <td>1253.0</td>\n",
              "      <td>x89732309</td>\n",
              "      <td>bainjal</td>\n",
              "      <td>Swati Chaturvedi</td>\n",
              "      <td>182989.0</td>\n",
              "      <td>161.0</td>\n",
              "      <td>68979.0</td>\n",
              "      <td>New Delhi</td>\n",
              "      <td>Print and Broadcast journalist. Author. Daddy'...</td>\n",
              "      <td>True</td>\n",
              "      <td>NaN</td>\n",
              "      <td>NaN</td>\n",
              "      <td>NaN</td>\n",
              "      <td>NaN</td>\n",
              "      <td>NaN</td>\n",
              "      <td>NaN</td>\n",
              "      <td>NA NA</td>\n",
              "      <td>NA NA</td>\n",
              "      <td>NA NA NA NA NA NA NA NA</td>\n",
              "      <td>https://twitter.com/commo_nic_ation/status/110...</td>\n",
              "      <td>Nikhil Bajwa</td>\n",
              "      <td>NaN</td>\n",
              "      <td>Prithak Mithak</td>\n",
              "      <td>NaN</td>\n",
              "      <td>False</td>\n",
              "      <td>113</td>\n",
              "      <td>465</td>\n",
              "      <td>0</td>\n",
              "      <td>45028</td>\n",
              "      <td>27176</td>\n",
              "      <td>2017-06-17 23:41:49</td>\n",
              "      <td>False</td>\n",
              "      <td>NaN</td>\n",
              "      <td>NaN</td>\n",
              "      <td>en</td>\n",
              "      <td>https://pbs.twimg.com/profile_banners/87622338...</td>\n",
              "      <td>NaN</td>\n",
              "      <td>http://pbs.twimg.com/profile_images/1078944490...</td>\n",
              "    </tr>\n",
              "    <tr>\n",
              "      <th>4</th>\n",
              "      <td>x164833002</td>\n",
              "      <td>x1108490100659376130</td>\n",
              "      <td>2019-03-20 22:06:49</td>\n",
              "      <td>PAWANSANAN</td>\n",
              "      <td>See how one of our #Chowkidar have thrashed Pa...</td>\n",
              "      <td>Twitter for Android</td>\n",
              "      <td>140</td>\n",
              "      <td>NaN</td>\n",
              "      <td>NaN</td>\n",
              "      <td>NaN</td>\n",
              "      <td>False</td>\n",
              "      <td>True</td>\n",
              "      <td>0</td>\n",
              "      <td>276</td>\n",
              "      <td>Chowkidar</td>\n",
              "      <td>NaN</td>\n",
              "      <td>NaN</td>\n",
              "      <td>NaN</td>\n",
              "      <td>NaN</td>\n",
              "      <td>NaN</td>\n",
              "      <td>NaN</td>\n",
              "      <td>NaN</td>\n",
              "      <td>NaN</td>\n",
              "      <td>NaN</td>\n",
              "      <td>NaN</td>\n",
              "      <td>NaN</td>\n",
              "      <td>NaN</td>\n",
              "      <td>x433509187</td>\n",
              "      <td>sampadscales</td>\n",
              "      <td>en</td>\n",
              "      <td>NaN</td>\n",
              "      <td>NaN</td>\n",
              "      <td>NaN</td>\n",
              "      <td>NaN</td>\n",
              "      <td>NaN</td>\n",
              "      <td>NaN</td>\n",
              "      <td>NaN</td>\n",
              "      <td>NaN</td>\n",
              "      <td>NaN</td>\n",
              "      <td>NaN</td>\n",
              "      <td>...</td>\n",
              "      <td>Twitter for Android</td>\n",
              "      <td>323.0</td>\n",
              "      <td>276.0</td>\n",
              "      <td>x433509187</td>\n",
              "      <td>sampadscales</td>\n",
              "      <td>Sanjib Ghosh 🇮🇳 সঞ্জীব</td>\n",
              "      <td>14320.0</td>\n",
              "      <td>160.0</td>\n",
              "      <td>163877.0</td>\n",
              "      <td>India</td>\n",
              "      <td>A Proud Indian | Hate Anti National &amp; Presstit...</td>\n",
              "      <td>False</td>\n",
              "      <td>NaN</td>\n",
              "      <td>NaN</td>\n",
              "      <td>NaN</td>\n",
              "      <td>NaN</td>\n",
              "      <td>NaN</td>\n",
              "      <td>NaN</td>\n",
              "      <td>NA NA</td>\n",
              "      <td>NA NA</td>\n",
              "      <td>NA NA NA NA NA NA NA NA</td>\n",
              "      <td>https://twitter.com/PAWANSANAN/status/11084901...</td>\n",
              "      <td>COMMANDER🇮🇳Pawan Sanan</td>\n",
              "      <td>new delhi</td>\n",
              "      <td>🇮🇳A Proud Veteran &amp; Nationalist. Served the In...</td>\n",
              "      <td>NaN</td>\n",
              "      <td>False</td>\n",
              "      <td>523</td>\n",
              "      <td>1545</td>\n",
              "      <td>0</td>\n",
              "      <td>22166</td>\n",
              "      <td>42683</td>\n",
              "      <td>2010-07-09 21:55:28</td>\n",
              "      <td>False</td>\n",
              "      <td>NaN</td>\n",
              "      <td>NaN</td>\n",
              "      <td>en</td>\n",
              "      <td>https://pbs.twimg.com/profile_banners/16483300...</td>\n",
              "      <td>http://abs.twimg.com/images/themes/theme1/bg.png</td>\n",
              "      <td>http://pbs.twimg.com/profile_images/6927846997...</td>\n",
              "    </tr>\n",
              "  </tbody>\n",
              "</table>\n",
              "<p>5 rows × 88 columns</p>\n",
              "</div>"
            ],
            "text/plain": [
              "               user_id  ...                                  profile_image_url\n",
              "0            x53414786  ...  http://pbs.twimg.com/profile_images/1095897454...\n",
              "1            x21014078  ...  http://pbs.twimg.com/profile_images/1100960124...\n",
              "2           x207809313  ...  http://pbs.twimg.com/profile_images/8125311080...\n",
              "3  x876223384639619073  ...  http://pbs.twimg.com/profile_images/1078944490...\n",
              "4           x164833002  ...  http://pbs.twimg.com/profile_images/6927846997...\n",
              "\n",
              "[5 rows x 88 columns]"
            ]
          },
          "metadata": {},
          "execution_count": 6
        }
      ]
    },
    {
      "cell_type": "code",
      "metadata": {
        "id": "gybaPQjuCVWm",
        "colab": {
          "base_uri": "https://localhost:8080/",
          "height": 70
        },
        "outputId": "d89caaea-639c-4895-86e4-2b23d589d2e5"
      },
      "source": [
        "data['text'][2]"
      ],
      "execution_count": null,
      "outputs": [
        {
          "output_type": "execute_result",
          "data": {
            "application/vnd.google.colaboratory.intrinsic+json": {
              "type": "string"
            },
            "text/plain": [
              "'You may now make #MainBhiChowkidar song as your Caller Tune. \\n\\n• Dial 57878617 from your Airtel mobile phone.\\n\\n• Dial 53711116475 from your Vodafone mobile phone.\\n\\n• Dial 5678911116415 from your Idea mobile phone.\\n\\n• Jio users can type chowkidar and send SMS to 56789. https://t.co/9YDshjNWyN'"
            ]
          },
          "metadata": {},
          "execution_count": 7
        }
      ]
    },
    {
      "cell_type": "markdown",
      "metadata": {
        "id": "3_krywuFap8Q"
      },
      "source": [
        "Dropping unwanted columns "
      ]
    },
    {
      "cell_type": "code",
      "metadata": {
        "id": "lQCjb-XEbKwn"
      },
      "source": [
        "data.drop(columns=['user_id', 'status_id','reply_to_status_id', 'reply_to_user_id','reply_to_screen_name','symbols','urls_url', 'urls_t.co',\n",
        "       'urls_expanded_url', 'media_url', 'media_t.co', 'media_expanded_url','media_type', 'ext_media_url', 'ext_media_t.co','ext_media_expanded_url', 'ext_media_type','profile_url', 'profile_expanded_url', 'account_lang',\n",
        "       'profile_banner_url', 'profile_background_url', 'profile_image_url'],inplace=True)"
      ],
      "execution_count": null,
      "outputs": []
    },
    {
      "cell_type": "code",
      "metadata": {
        "id": "JbB0hWXgapbi",
        "colab": {
          "base_uri": "https://localhost:8080/"
        },
        "outputId": "3e29faf0-799c-4677-9612-0625812178ce"
      },
      "source": [
        "data.isna().sum()"
      ],
      "execution_count": null,
      "outputs": [
        {
          "output_type": "execute_result",
          "data": {
            "text/plain": [
              "created_at            0\n",
              "screen_name           0\n",
              "text                  0\n",
              "source                0\n",
              "display_text_width    0\n",
              "                     ..\n",
              "listed_count          0\n",
              "statuses_count        0\n",
              "favourites_count      0\n",
              "account_created_at    0\n",
              "verified              0\n",
              "Length: 65, dtype: int64"
            ]
          },
          "metadata": {},
          "execution_count": 9
        }
      ]
    },
    {
      "cell_type": "markdown",
      "metadata": {
        "id": "hHRzwIhO3ZfT"
      },
      "source": [
        "Removing special characters"
      ]
    },
    {
      "cell_type": "code",
      "metadata": {
        "id": "E-mMPTplHU1P"
      },
      "source": [
        "def remove_symbol(input_text, symbol):\n",
        "    r = re.findall(symbol, input_text)\n",
        "    for i in r:\n",
        "        input_text = re.sub(i, '', input_text)\n",
        "        \n",
        "    return input_text    "
      ],
      "execution_count": null,
      "outputs": []
    },
    {
      "cell_type": "code",
      "metadata": {
        "id": "EwH9aLlY3Y00"
      },
      "source": [
        "data['clean_tweet'] = np.vectorize(remove_symbol)(data['text'], \"@[\\w]*\")\n",
        "data[\"clean_tweet\"] = data['text'].str.replace(\"[^a-zA-Z#&]\", \" \")"
      ],
      "execution_count": null,
      "outputs": []
    },
    {
      "cell_type": "markdown",
      "metadata": {
        "id": "RhAyqB9l3csP"
      },
      "source": [
        "Tokenizing the tweet"
      ]
    },
    {
      "cell_type": "code",
      "metadata": {
        "id": "wF22SqSP7Pzh",
        "colab": {
          "base_uri": "https://localhost:8080/"
        },
        "outputId": "47a6a2be-6534-4df1-d0b8-bd37419ab0a7"
      },
      "source": [
        "tokenized_tweet = data['clean_tweet'].apply(lambda x: x.split())\n",
        "from nltk.stem.porter import *\n",
        "stemmer = PorterStemmer()\n",
        "\n",
        "tokenized_tweet = tokenized_tweet.apply(lambda x: [stemmer.stem(i) for i in x]) # stemming\n",
        "tokenized_tweet.head()"
      ],
      "execution_count": null,
      "outputs": [
        {
          "output_type": "execute_result",
          "data": {
            "text/plain": [
              "0    [I, ve, spoken, out, against, everi, major, po...\n",
              "1    [bhakt, are, thrill, one, of, the, four, men, ...\n",
              "2    [you, may, now, make, #mainbhichowkidar, song,...\n",
              "3    [breakfast, with, chief, chowkidar, in, austra...\n",
              "4    [see, how, one, of, our, #chowkidar, have, thr...\n",
              "Name: clean_tweet, dtype: object"
            ]
          },
          "metadata": {},
          "execution_count": 12
        }
      ]
    },
    {
      "cell_type": "code",
      "metadata": {
        "id": "MBgDSUzJUOLZ",
        "colab": {
          "base_uri": "https://localhost:8080/"
        },
        "outputId": "aad7bdd1-b5c6-4595-dfd0-2f0bc7f8ca86"
      },
      "source": [
        "sw_list =['https',\n",
        "      \"airtel\",\n",
        "      \"vodafone\",\n",
        "      \"mobile\",\n",
        "      \"dial\",\n",
        "      \"sms\",\n",
        "      \"users\",\n",
        "      \"caller\",\n",
        "      \"hai\",\n",
        "      \"pe\",\n",
        "      \"aiel\",\n",
        "      \"send\",\n",
        "      \"im\",\n",
        "      \"jio\",\n",
        "      \"phone\",\n",
        "      \"ke\",\n",
        "      \"tune\",\n",
        "      \"main\",\n",
        "      \"ive\",\"Nirav\",\"arrested\",\"NiravModi\"]\n",
        "from nltk.corpus import stopwords\n",
        "nltk.download('stopwords')\n",
        "all_stopwords = stopwords.words('english')\n",
        "all_stopwords.extend(sw_list)\n",
        "data['clean_tweet'].apply(lambda x: [item for item in x if item not in all_stopwords])\n",
        "data['clean_tweet'] = data['clean_tweet'].apply(lambda x: ' '.join([word for word in x.split() if word not in (all_stopwords)]))"
      ],
      "execution_count": null,
      "outputs": [
        {
          "output_type": "stream",
          "name": "stdout",
          "text": [
            "[nltk_data] Downloading package stopwords to /root/nltk_data...\n",
            "[nltk_data]   Unzipping corpora/stopwords.zip.\n"
          ]
        }
      ]
    },
    {
      "cell_type": "code",
      "metadata": {
        "id": "v9xsCf6alKQ0"
      },
      "source": [
        "data_new=data[['screen_name','text','clean_tweet']].copy()"
      ],
      "execution_count": null,
      "outputs": []
    },
    {
      "cell_type": "code",
      "metadata": {
        "id": "xDaYm-7Pm12M",
        "colab": {
          "base_uri": "https://localhost:8080/"
        },
        "outputId": "1d76dbeb-e8cf-49ca-c98f-c6a8cbacd4ce"
      },
      "source": [
        "data_new"
      ],
      "execution_count": null,
      "outputs": [
        {
          "output_type": "execute_result",
          "data": {
            "text/html": [
              "<div>\n",
              "<style scoped>\n",
              "    .dataframe tbody tr th:only-of-type {\n",
              "        vertical-align: middle;\n",
              "    }\n",
              "\n",
              "    .dataframe tbody tr th {\n",
              "        vertical-align: top;\n",
              "    }\n",
              "\n",
              "    .dataframe thead th {\n",
              "        text-align: right;\n",
              "    }\n",
              "</style>\n",
              "<table border=\"1\" class=\"dataframe\">\n",
              "  <thead>\n",
              "    <tr style=\"text-align: right;\">\n",
              "      <th></th>\n",
              "      <th>screen_name</th>\n",
              "      <th>text</th>\n",
              "      <th>clean_tweet</th>\n",
              "    </tr>\n",
              "  </thead>\n",
              "  <tbody>\n",
              "    <tr>\n",
              "      <th>0</th>\n",
              "      <td>Actor_Siddharth</td>\n",
              "      <td>I've spoken out against every major political ...</td>\n",
              "      <td>I spoken every major political party need aros...</td>\n",
              "    </tr>\n",
              "    <tr>\n",
              "      <th>1</th>\n",
              "      <td>svaradarajan</td>\n",
              "      <td>Bhakts are thrilled one of the four men arrest...</td>\n",
              "      <td>Bhakts thrilled one four men sending obscene p...</td>\n",
              "    </tr>\n",
              "    <tr>\n",
              "      <th>2</th>\n",
              "      <td>BJP4India</td>\n",
              "      <td>You may now make #MainBhiChowkidar song as you...</td>\n",
              "      <td>You may make #MainBhiChowkidar song Caller Tun...</td>\n",
              "    </tr>\n",
              "    <tr>\n",
              "      <th>3</th>\n",
              "      <td>commo_nic_ation</td>\n",
              "      <td>Breakfast with chief chowkidar in Australia. F...</td>\n",
              "      <td>Breakfast chief chowkidar Australia Former SBI...</td>\n",
              "    </tr>\n",
              "    <tr>\n",
              "      <th>4</th>\n",
              "      <td>PAWANSANAN</td>\n",
              "      <td>See how one of our #Chowkidar have thrashed Pa...</td>\n",
              "      <td>See one #Chowkidar thrashed Pappu supporter mi...</td>\n",
              "    </tr>\n",
              "    <tr>\n",
              "      <th>...</th>\n",
              "      <td>...</td>\n",
              "      <td>...</td>\n",
              "      <td>...</td>\n",
              "    </tr>\n",
              "    <tr>\n",
              "      <th>107963</th>\n",
              "      <td>sanjayuvacha</td>\n",
              "      <td>@chowkidar_bhan @gunjantheecho @sanjayuvacha S...</td>\n",
              "      <td>chowkidar bhan gunjantheecho sanjayuvacha Sir ...</td>\n",
              "    </tr>\n",
              "    <tr>\n",
              "      <th>107964</th>\n",
              "      <td>Sukantakbehera</td>\n",
              "      <td>Your Chowkidar is standing firm &amp;amp; serving ...</td>\n",
              "      <td>Your Chowkidar standing firm &amp;amp serving nati...</td>\n",
              "    </tr>\n",
              "    <tr>\n",
              "      <th>107965</th>\n",
              "      <td>KapilPalMeerut</td>\n",
              "      <td>Kaun hai :\\n\\nJhooth ka Chowkidar ?\\n\\nFalse p...</td>\n",
              "      <td>Kaun Jhooth ka Chowkidar False promises lakhs ...</td>\n",
              "    </tr>\n",
              "    <tr>\n",
              "      <th>107966</th>\n",
              "      <td>RajniGeorge</td>\n",
              "      <td>If you are a chowkidar then tell me \\nwhere is...</td>\n",
              "      <td>If chowkidar tell son Najeeb Why Abvp goons Wh...</td>\n",
              "    </tr>\n",
              "    <tr>\n",
              "      <th>107967</th>\n",
              "      <td>AMRITRA66950600</td>\n",
              "      <td>I am proud to join #MainBhiChowkidar movement....</td>\n",
              "      <td>I proud join #MainBhiChowkidar movement As cit...</td>\n",
              "    </tr>\n",
              "  </tbody>\n",
              "</table>\n",
              "<p>107968 rows × 3 columns</p>\n",
              "</div>"
            ],
            "text/plain": [
              "            screen_name  ...                                        clean_tweet\n",
              "0       Actor_Siddharth  ...  I spoken every major political party need aros...\n",
              "1          svaradarajan  ...  Bhakts thrilled one four men sending obscene p...\n",
              "2             BJP4India  ...  You may make #MainBhiChowkidar song Caller Tun...\n",
              "3       commo_nic_ation  ...  Breakfast chief chowkidar Australia Former SBI...\n",
              "4            PAWANSANAN  ...  See one #Chowkidar thrashed Pappu supporter mi...\n",
              "...                 ...  ...                                                ...\n",
              "107963     sanjayuvacha  ...  chowkidar bhan gunjantheecho sanjayuvacha Sir ...\n",
              "107964   Sukantakbehera  ...  Your Chowkidar standing firm &amp serving nati...\n",
              "107965   KapilPalMeerut  ...  Kaun Jhooth ka Chowkidar False promises lakhs ...\n",
              "107966      RajniGeorge  ...  If chowkidar tell son Najeeb Why Abvp goons Wh...\n",
              "107967  AMRITRA66950600  ...  I proud join #MainBhiChowkidar movement As cit...\n",
              "\n",
              "[107968 rows x 3 columns]"
            ]
          },
          "metadata": {},
          "execution_count": 15
        }
      ]
    },
    {
      "cell_type": "markdown",
      "metadata": {
        "id": "AWfDN-aHUXz4"
      },
      "source": [
        "**Sentiment analysis Using TextBlob**"
      ]
    },
    {
      "cell_type": "code",
      "metadata": {
        "id": "rrCtGMBHUXYu",
        "colab": {
          "base_uri": "https://localhost:8080/",
          "height": 249
        },
        "outputId": "f925fae7-575f-470d-a229-2f62cb6408d8"
      },
      "source": [
        "def analyze_sentiment(tweet):\n",
        "    analysis = TextBlob(tweet)\n",
        "    if analysis.sentiment.polarity > 0:\n",
        "        return 1\n",
        "    elif analysis.sentiment.polarity==0 :\n",
        "        return 0\n",
        "    elif analysis.sentiment.polarity<0:\n",
        "        return -1\n",
        "data_new['sentiment'] = np.array([ analyze_sentiment(tweet) for tweet in data_new['clean_tweet']])\n",
        "positive=data.loc[data_new.sentiment==1,'clean_tweet'].count()\n",
        "negative=data.loc[data_new.sentiment==-1,'clean_tweet'].count()\n",
        "neutral=data.loc[data_new.sentiment==0,'clean_tweet'].count()\n",
        "\n",
        "#plot\n",
        "labels='Positive','Negative','Neutral'\n",
        "sizes=[positive,negative,neutral]\n",
        "explode=None\n",
        "fig1, ax1 = plt.subplots()\n",
        "ax1.pie(sizes, explode=explode, labels=labels, autopct='%1.1f%%',\n",
        "        shadow=True, startangle=0)\n",
        "ax1.axis('equal') \n",
        "plt.show()"
      ],
      "execution_count": null,
      "outputs": [
        {
          "output_type": "display_data",
          "data": {
            "image/png": "[encoded data removed]",
            "text/plain": [
              "<Figure size 432x288 with 1 Axes>"
            ]
          },
          "metadata": {}
        }
      ]
    },
    {
      "cell_type": "markdown",
      "metadata": {
        "id": "0E0Me52sQ3yb"
      },
      "source": [
        "**Sentiment Analysis using VADER**"
      ]
    },
    {
      "cell_type": "code",
      "metadata": {
        "id": "ZILVJPtN6eEW",
        "colab": {
          "base_uri": "https://localhost:8080/"
        },
        "outputId": "3e2a1f09-1a49-459c-95b1-8a1562db513a"
      },
      "source": [
        "pip install vaderSentiment"
      ],
      "execution_count": null,
      "outputs": [
        {
          "output_type": "stream",
          "name": "stdout",
          "text": [
            "Collecting vaderSentiment\n",
            "  Downloading vaderSentiment-3.3.2-py2.py3-none-any.whl (125 kB)\n",
            "\u001b[?25l\r\u001b[K     |██▋                             | 10 kB 25.2 MB/s eta 0:00:01\r\u001b[K     |█████▏                          | 20 kB 29.4 MB/s eta 0:00:01\r\u001b[K     |███████▉                        | 30 kB 31.2 MB/s eta 0:00:01\r\u001b[K     |██████████▍                     | 40 kB 32.5 MB/s eta 0:00:01\r\u001b[K     |█████████████                   | 51 kB 34.2 MB/s eta 0:00:01\r\u001b[K     |███████████████▋                | 61 kB 31.5 MB/s eta 0:00:01\r\u001b[K     |██████████████████▏             | 71 kB 26.9 MB/s eta 0:00:01\r\u001b[K     |████████████████████▉           | 81 kB 26.8 MB/s eta 0:00:01\r\u001b[K     |███████████████████████▍        | 92 kB 28.6 MB/s eta 0:00:01\r\u001b[K     |██████████████████████████      | 102 kB 30.4 MB/s eta 0:00:01\r\u001b[K     |████████████████████████████▋   | 112 kB 30.4 MB/s eta 0:00:01\r\u001b[K     |███████████████████████████████▏| 122 kB 30.4 MB/s eta 0:00:01\r\u001b[K     |████████████████████████████████| 125 kB 30.4 MB/s \n",
            "\u001b[?25hRequirement already satisfied: requests in /usr/local/lib/python3.7/dist-packages (from vaderSentiment) (2.23.0)\n",
            "Requirement already satisfied: urllib3!=1.25.0,!=1.25.1,<1.26,>=1.21.1 in /usr/local/lib/python3.7/dist-packages (from requests->vaderSentiment) (1.24.3)\n",
            "Requirement already satisfied: chardet<4,>=3.0.2 in /usr/local/lib/python3.7/dist-packages (from requests->vaderSentiment) (3.0.4)\n",
            "Requirement already satisfied: idna<3,>=2.5 in /usr/local/lib/python3.7/dist-packages (from requests->vaderSentiment) (2.10)\n",
            "Requirement already satisfied: certifi>=2017.4.17 in /usr/local/lib/python3.7/dist-packages (from requests->vaderSentiment) (2021.10.8)\n",
            "Installing collected packages: vaderSentiment\n",
            "Successfully installed vaderSentiment-3.3.2\n"
          ]
        }
      ]
    },
    {
      "cell_type": "code",
      "metadata": {
        "id": "FkRmNujJ5oiy"
      },
      "source": [
        "from vaderSentiment.vaderSentiment import SentimentIntensityAnalyzer\n",
        "sid_obj = SentimentIntensityAnalyzer()\n",
        "sentiment_vader = {\"Positive\":[], \"Negative\" :[], \"Neutral\":[], \"Compound\":[]}\n",
        "for i in data_new[\"clean_tweet\"]:\n",
        "    sentiment_vader[\"Positive\"].append(sid_obj.polarity_scores(i)['pos'])\n",
        "    sentiment_vader[\"Negative\"].append(sid_obj.polarity_scores(i)['neg'])\n",
        "    sentiment_vader[\"Neutral\"].append(sid_obj.polarity_scores(i)['neu'])\n",
        "    sentiment_vader[\"Compound\"].append(sid_obj.polarity_scores(i)['compound'])"
      ],
      "execution_count": null,
      "outputs": []
    },
    {
      "cell_type": "code",
      "metadata": {
        "id": "Q3ae0Ex56_yh"
      },
      "source": [
        "data_new.insert(4,\"Compound\",sentiment_vader['Compound'],True)"
      ],
      "execution_count": null,
      "outputs": []
    },
    {
      "cell_type": "code",
      "metadata": {
        "id": "BYjRVnfutciW",
        "colab": {
          "base_uri": "https://localhost:8080/"
        },
        "outputId": "19da583b-f1e3-4890-d613-45a43f5e0641"
      },
      "source": [
        "data_new.head()"
      ],
      "execution_count": null,
      "outputs": [
        {
          "output_type": "execute_result",
          "data": {
            "text/html": [
              "<div>\n",
              "<style scoped>\n",
              "    .dataframe tbody tr th:only-of-type {\n",
              "        vertical-align: middle;\n",
              "    }\n",
              "\n",
              "    .dataframe tbody tr th {\n",
              "        vertical-align: top;\n",
              "    }\n",
              "\n",
              "    .dataframe thead th {\n",
              "        text-align: right;\n",
              "    }\n",
              "</style>\n",
              "<table border=\"1\" class=\"dataframe\">\n",
              "  <thead>\n",
              "    <tr style=\"text-align: right;\">\n",
              "      <th></th>\n",
              "      <th>screen_name</th>\n",
              "      <th>text</th>\n",
              "      <th>clean_tweet</th>\n",
              "      <th>sentiment</th>\n",
              "      <th>Compound</th>\n",
              "    </tr>\n",
              "  </thead>\n",
              "  <tbody>\n",
              "    <tr>\n",
              "      <th>0</th>\n",
              "      <td>Actor_Siddharth</td>\n",
              "      <td>I've spoken out against every major political ...</td>\n",
              "      <td>I spoken every major political party need aros...</td>\n",
              "      <td>-1</td>\n",
              "      <td>-0.9419</td>\n",
              "    </tr>\n",
              "    <tr>\n",
              "      <th>1</th>\n",
              "      <td>svaradarajan</td>\n",
              "      <td>Bhakts are thrilled one of the four men arrest...</td>\n",
              "      <td>Bhakts thrilled one four men sending obscene p...</td>\n",
              "      <td>-1</td>\n",
              "      <td>-0.5106</td>\n",
              "    </tr>\n",
              "    <tr>\n",
              "      <th>2</th>\n",
              "      <td>BJP4India</td>\n",
              "      <td>You may now make #MainBhiChowkidar song as you...</td>\n",
              "      <td>You may make #MainBhiChowkidar song Caller Tun...</td>\n",
              "      <td>0</td>\n",
              "      <td>0.0000</td>\n",
              "    </tr>\n",
              "    <tr>\n",
              "      <th>3</th>\n",
              "      <td>commo_nic_ation</td>\n",
              "      <td>Breakfast with chief chowkidar in Australia. F...</td>\n",
              "      <td>Breakfast chief chowkidar Australia Former SBI...</td>\n",
              "      <td>0</td>\n",
              "      <td>0.0000</td>\n",
              "    </tr>\n",
              "    <tr>\n",
              "      <th>4</th>\n",
              "      <td>PAWANSANAN</td>\n",
              "      <td>See how one of our #Chowkidar have thrashed Pa...</td>\n",
              "      <td>See one #Chowkidar thrashed Pappu supporter mi...</td>\n",
              "      <td>0</td>\n",
              "      <td>-0.1531</td>\n",
              "    </tr>\n",
              "  </tbody>\n",
              "</table>\n",
              "</div>"
            ],
            "text/plain": [
              "       screen_name  ... Compound\n",
              "0  Actor_Siddharth  ...  -0.9419\n",
              "1     svaradarajan  ...  -0.5106\n",
              "2        BJP4India  ...   0.0000\n",
              "3  commo_nic_ation  ...   0.0000\n",
              "4       PAWANSANAN  ...  -0.1531\n",
              "\n",
              "[5 rows x 5 columns]"
            ]
          },
          "metadata": {},
          "execution_count": 20
        }
      ]
    },
    {
      "cell_type": "code",
      "metadata": {
        "id": "Bwk1ey3r7nbX"
      },
      "source": [
        "positive=data.loc[data_new.Compound>=0.05,'clean_tweet'].count()\n",
        "negative=data.loc[data_new.Compound<=-0.05,'clean_tweet'].count()\n",
        "\n",
        "#plot\n"
      ],
      "execution_count": null,
      "outputs": []
    },
    {
      "cell_type": "code",
      "metadata": {
        "id": "av3Z9sJjGOsp",
        "colab": {
          "base_uri": "https://localhost:8080/"
        },
        "outputId": "c96be459-fb44-459f-d716-d9bb24d9faea"
      },
      "source": [
        "positive"
      ],
      "execution_count": null,
      "outputs": [
        {
          "output_type": "execute_result",
          "data": {
            "text/plain": [
              "46417"
            ]
          },
          "metadata": {},
          "execution_count": 22
        }
      ]
    },
    {
      "cell_type": "code",
      "metadata": {
        "id": "H1RIvxj1GROU",
        "colab": {
          "base_uri": "https://localhost:8080/"
        },
        "outputId": "b944565f-09f0-4981-eb9b-155a7b0c123d"
      },
      "source": [
        "negative"
      ],
      "execution_count": null,
      "outputs": [
        {
          "output_type": "execute_result",
          "data": {
            "text/plain": [
              "30957"
            ]
          },
          "metadata": {},
          "execution_count": 23
        }
      ]
    },
    {
      "cell_type": "code",
      "metadata": {
        "id": "heQeCcVXGVKg"
      },
      "source": [
        "neutral=data_new.Compound.count()-(positive+negative)"
      ],
      "execution_count": null,
      "outputs": []
    },
    {
      "cell_type": "code",
      "metadata": {
        "id": "tN3OdEt1GK7p",
        "colab": {
          "base_uri": "https://localhost:8080/"
        },
        "outputId": "209a33b3-834f-4211-c231-39dee3daf7e7"
      },
      "source": [
        "labels='Positive','Negative','Neutral'\n",
        "sizes=[positive,negative,neutral]\n",
        "explode=None\n",
        "fig1, ax1 = plt.subplots()\n",
        "ax1.pie(sizes, explode=explode, labels=labels, autopct='%1.1f%%',\n",
        "        shadow=True, startangle=0)\n",
        "ax1.axis('equal') \n",
        "plt.show()"
      ],
      "execution_count": null,
      "outputs": [
        {
          "output_type": "display_data",
          "data": {
            "image/png": "[encoded data removed]",
            "text/plain": [
              "<Figure size 432x288 with 1 Axes>"
            ]
          },
          "metadata": {}
        }
      ]
    },
    {
      "cell_type": "markdown",
      "metadata": {
        "id": "wRhe7kWSHxjb"
      },
      "source": [
        "Sentiment values for VADER"
      ]
    },
    {
      "cell_type": "code",
      "metadata": {
        "id": "ZMzxPrvFHxAb"
      },
      "source": [
        "def analyze_sentiment(i):\n",
        "    if i >=0.05:\n",
        "        return 1\n",
        "    elif i<0.05 and i>-0.05 :\n",
        "        return 0\n",
        "    elif i<-0.05:\n",
        "        return -1\n",
        "data_new['sentiment1'] = np.array([ analyze_sentiment(i) for i in data_new['Compound']])"
      ],
      "execution_count": null,
      "outputs": []
    },
    {
      "cell_type": "code",
      "metadata": {
        "id": "q4Q1tysBMlv7",
        "colab": {
          "base_uri": "https://localhost:8080/"
        },
        "outputId": "8c39afa2-0fe2-491f-af40-76fde0771349"
      },
      "source": [
        "data_new.head()"
      ],
      "execution_count": null,
      "outputs": [
        {
          "output_type": "execute_result",
          "data": {
            "text/html": [
              "<div>\n",
              "<style scoped>\n",
              "    .dataframe tbody tr th:only-of-type {\n",
              "        vertical-align: middle;\n",
              "    }\n",
              "\n",
              "    .dataframe tbody tr th {\n",
              "        vertical-align: top;\n",
              "    }\n",
              "\n",
              "    .dataframe thead th {\n",
              "        text-align: right;\n",
              "    }\n",
              "</style>\n",
              "<table border=\"1\" class=\"dataframe\">\n",
              "  <thead>\n",
              "    <tr style=\"text-align: right;\">\n",
              "      <th></th>\n",
              "      <th>screen_name</th>\n",
              "      <th>text</th>\n",
              "      <th>clean_tweet</th>\n",
              "      <th>sentiment</th>\n",
              "      <th>Compound</th>\n",
              "      <th>sentiment1</th>\n",
              "    </tr>\n",
              "  </thead>\n",
              "  <tbody>\n",
              "    <tr>\n",
              "      <th>0</th>\n",
              "      <td>Actor_Siddharth</td>\n",
              "      <td>I've spoken out against every major political ...</td>\n",
              "      <td>I spoken every major political party need aros...</td>\n",
              "      <td>-1</td>\n",
              "      <td>-0.9419</td>\n",
              "      <td>-1</td>\n",
              "    </tr>\n",
              "    <tr>\n",
              "      <th>1</th>\n",
              "      <td>svaradarajan</td>\n",
              "      <td>Bhakts are thrilled one of the four men arrest...</td>\n",
              "      <td>Bhakts thrilled one four men sending obscene p...</td>\n",
              "      <td>-1</td>\n",
              "      <td>-0.5106</td>\n",
              "      <td>-1</td>\n",
              "    </tr>\n",
              "    <tr>\n",
              "      <th>2</th>\n",
              "      <td>BJP4India</td>\n",
              "      <td>You may now make #MainBhiChowkidar song as you...</td>\n",
              "      <td>You may make #MainBhiChowkidar song Caller Tun...</td>\n",
              "      <td>0</td>\n",
              "      <td>0.0000</td>\n",
              "      <td>0</td>\n",
              "    </tr>\n",
              "    <tr>\n",
              "      <th>3</th>\n",
              "      <td>commo_nic_ation</td>\n",
              "      <td>Breakfast with chief chowkidar in Australia. F...</td>\n",
              "      <td>Breakfast chief chowkidar Australia Former SBI...</td>\n",
              "      <td>0</td>\n",
              "      <td>0.0000</td>\n",
              "      <td>0</td>\n",
              "    </tr>\n",
              "    <tr>\n",
              "      <th>4</th>\n",
              "      <td>PAWANSANAN</td>\n",
              "      <td>See how one of our #Chowkidar have thrashed Pa...</td>\n",
              "      <td>See one #Chowkidar thrashed Pappu supporter mi...</td>\n",
              "      <td>0</td>\n",
              "      <td>-0.1531</td>\n",
              "      <td>-1</td>\n",
              "    </tr>\n",
              "  </tbody>\n",
              "</table>\n",
              "</div>"
            ],
            "text/plain": [
              "       screen_name  ... sentiment1\n",
              "0  Actor_Siddharth  ...         -1\n",
              "1     svaradarajan  ...         -1\n",
              "2        BJP4India  ...          0\n",
              "3  commo_nic_ation  ...          0\n",
              "4       PAWANSANAN  ...         -1\n",
              "\n",
              "[5 rows x 6 columns]"
            ]
          },
          "metadata": {},
          "execution_count": 27
        }
      ]
    },
    {
      "cell_type": "code",
      "metadata": {
        "id": "JFzkT3bDOMxc",
        "colab": {
          "base_uri": "https://localhost:8080/"
        },
        "outputId": "18a160e9-970a-46a5-f853-52980e6859be"
      },
      "source": [
        "data_new1=data_new[['screen_name','text','clean_tweet','sentiment1']].copy()\n",
        "data_new1"
      ],
      "execution_count": null,
      "outputs": [
        {
          "output_type": "execute_result",
          "data": {
            "text/html": [
              "<div>\n",
              "<style scoped>\n",
              "    .dataframe tbody tr th:only-of-type {\n",
              "        vertical-align: middle;\n",
              "    }\n",
              "\n",
              "    .dataframe tbody tr th {\n",
              "        vertical-align: top;\n",
              "    }\n",
              "\n",
              "    .dataframe thead th {\n",
              "        text-align: right;\n",
              "    }\n",
              "</style>\n",
              "<table border=\"1\" class=\"dataframe\">\n",
              "  <thead>\n",
              "    <tr style=\"text-align: right;\">\n",
              "      <th></th>\n",
              "      <th>screen_name</th>\n",
              "      <th>text</th>\n",
              "      <th>clean_tweet</th>\n",
              "      <th>sentiment1</th>\n",
              "    </tr>\n",
              "  </thead>\n",
              "  <tbody>\n",
              "    <tr>\n",
              "      <th>0</th>\n",
              "      <td>Actor_Siddharth</td>\n",
              "      <td>I've spoken out against every major political ...</td>\n",
              "      <td>I spoken every major political party need aros...</td>\n",
              "      <td>-1</td>\n",
              "    </tr>\n",
              "    <tr>\n",
              "      <th>1</th>\n",
              "      <td>svaradarajan</td>\n",
              "      <td>Bhakts are thrilled one of the four men arrest...</td>\n",
              "      <td>Bhakts thrilled one four men sending obscene p...</td>\n",
              "      <td>-1</td>\n",
              "    </tr>\n",
              "    <tr>\n",
              "      <th>2</th>\n",
              "      <td>BJP4India</td>\n",
              "      <td>You may now make #MainBhiChowkidar song as you...</td>\n",
              "      <td>You may make #MainBhiChowkidar song Caller Tun...</td>\n",
              "      <td>0</td>\n",
              "    </tr>\n",
              "    <tr>\n",
              "      <th>3</th>\n",
              "      <td>commo_nic_ation</td>\n",
              "      <td>Breakfast with chief chowkidar in Australia. F...</td>\n",
              "      <td>Breakfast chief chowkidar Australia Former SBI...</td>\n",
              "      <td>0</td>\n",
              "    </tr>\n",
              "    <tr>\n",
              "      <th>4</th>\n",
              "      <td>PAWANSANAN</td>\n",
              "      <td>See how one of our #Chowkidar have thrashed Pa...</td>\n",
              "      <td>See one #Chowkidar thrashed Pappu supporter mi...</td>\n",
              "      <td>-1</td>\n",
              "    </tr>\n",
              "    <tr>\n",
              "      <th>...</th>\n",
              "      <td>...</td>\n",
              "      <td>...</td>\n",
              "      <td>...</td>\n",
              "      <td>...</td>\n",
              "    </tr>\n",
              "    <tr>\n",
              "      <th>107963</th>\n",
              "      <td>sanjayuvacha</td>\n",
              "      <td>@chowkidar_bhan @gunjantheecho @sanjayuvacha S...</td>\n",
              "      <td>chowkidar bhan gunjantheecho sanjayuvacha Sir ...</td>\n",
              "      <td>0</td>\n",
              "    </tr>\n",
              "    <tr>\n",
              "      <th>107964</th>\n",
              "      <td>Sukantakbehera</td>\n",
              "      <td>Your Chowkidar is standing firm &amp;amp; serving ...</td>\n",
              "      <td>Your Chowkidar standing firm &amp;amp serving nati...</td>\n",
              "      <td>-1</td>\n",
              "    </tr>\n",
              "    <tr>\n",
              "      <th>107965</th>\n",
              "      <td>KapilPalMeerut</td>\n",
              "      <td>Kaun hai :\\n\\nJhooth ka Chowkidar ?\\n\\nFalse p...</td>\n",
              "      <td>Kaun Jhooth ka Chowkidar False promises lakhs ...</td>\n",
              "      <td>1</td>\n",
              "    </tr>\n",
              "    <tr>\n",
              "      <th>107966</th>\n",
              "      <td>RajniGeorge</td>\n",
              "      <td>If you are a chowkidar then tell me \\nwhere is...</td>\n",
              "      <td>If chowkidar tell son Najeeb Why Abvp goons Wh...</td>\n",
              "      <td>-1</td>\n",
              "    </tr>\n",
              "    <tr>\n",
              "      <th>107967</th>\n",
              "      <td>AMRITRA66950600</td>\n",
              "      <td>I am proud to join #MainBhiChowkidar movement....</td>\n",
              "      <td>I proud join #MainBhiChowkidar movement As cit...</td>\n",
              "      <td>1</td>\n",
              "    </tr>\n",
              "  </tbody>\n",
              "</table>\n",
              "<p>107968 rows × 4 columns</p>\n",
              "</div>"
            ],
            "text/plain": [
              "            screen_name  ... sentiment1\n",
              "0       Actor_Siddharth  ...         -1\n",
              "1          svaradarajan  ...         -1\n",
              "2             BJP4India  ...          0\n",
              "3       commo_nic_ation  ...          0\n",
              "4            PAWANSANAN  ...         -1\n",
              "...                 ...  ...        ...\n",
              "107963     sanjayuvacha  ...          0\n",
              "107964   Sukantakbehera  ...         -1\n",
              "107965   KapilPalMeerut  ...          1\n",
              "107966      RajniGeorge  ...         -1\n",
              "107967  AMRITRA66950600  ...          1\n",
              "\n",
              "[107968 rows x 4 columns]"
            ]
          },
          "metadata": {},
          "execution_count": 28
        }
      ]
    },
    {
      "cell_type": "markdown",
      "metadata": {
        "id": "4so33C0w1kdP"
      },
      "source": [
        "Conversion to numeric"
      ]
    },
    {
      "cell_type": "code",
      "metadata": {
        "id": "HGoASjxrsGkl"
      },
      "source": [
        "from sklearn.feature_extraction.text import CountVectorizer\n",
        "bow_vectorizer = CountVectorizer(max_df=0.90, min_df=2, max_features=1000, stop_words='english')  # bow bag of words\n",
        "# bag-of-words feature matrix\n",
        "bow = bow_vectorizer.fit_transform(data_new['clean_tweet'])"
      ],
      "execution_count": null,
      "outputs": []
    },
    {
      "cell_type": "code",
      "metadata": {
        "id": "7XwrgLbQvpsL",
        "colab": {
          "base_uri": "https://localhost:8080/"
        },
        "outputId": "1576e614-570f-4ecb-dba6-22e276f2c644"
      },
      "source": [
        "bow"
      ],
      "execution_count": null,
      "outputs": [
        {
          "output_type": "execute_result",
          "data": {
            "text/plain": [
              "<107968x1000 sparse matrix of type '<class 'numpy.int64'>'\n",
              "\twith 1265992 stored elements in Compressed Sparse Row format>"
            ]
          },
          "metadata": {},
          "execution_count": 30
        }
      ]
    },
    {
      "cell_type": "markdown",
      "metadata": {
        "id": "LF7ssvvIUgZi"
      },
      "source": [
        "**Classification Model - Random Forest Classifier** "
      ]
    },
    {
      "cell_type": "code",
      "metadata": {
        "id": "irCaCrwrs0gw"
      },
      "source": [
        "from sklearn.ensemble import RandomForestClassifier\n",
        "from sklearn.model_selection import train_test_split\n",
        "from sklearn.metrics import classification_report,confusion_matrix\n",
        "\n",
        "X=bow.toarray()\n",
        "Y=data_new['sentiment']\n",
        "Y1=data_new1['sentiment1']"
      ],
      "execution_count": null,
      "outputs": []
    },
    {
      "cell_type": "markdown",
      "metadata": {
        "id": "hNf1XVdVVbsY"
      },
      "source": [
        "***Prediction based on bow of Textblob***"
      ]
    },
    {
      "cell_type": "markdown",
      "metadata": {
        "id": "PObxzradU3rC"
      },
      "source": [
        "Predicting Output based on Test Data"
      ]
    },
    {
      "cell_type": "code",
      "metadata": {
        "id": "2G1r8JuktuKk",
        "colab": {
          "base_uri": "https://localhost:8080/"
        },
        "outputId": "ee0a26d6-7f30-471d-e76c-0920bc241de1"
      },
      "source": [
        "# splitting data into training and validation set\n",
        "xtrain_bow,xtest_bow,ytrain_bow,ytest_bow = train_test_split(X,Y, random_state=42, test_size=0.3)\n",
        "xtrain_bow, xval_bow, ytrain_bow, yval_bow= train_test_split(xtrain_bow, ytrain_bow, test_size=0.25, random_state=42)\n",
        "rf= RandomForestClassifier()\n",
        "rf.fit(xtrain_bow, ytrain_bow) # training the model\n",
        "ypred_bow=rf.predict(xtest_bow)\n",
        "print(classification_report(ytest_bow,ypred_bow))\n",
        "confusion_matrix(ytest_bow,ypred_bow)"
      ],
      "execution_count": null,
      "outputs": [
        {
          "output_type": "stream",
          "name": "stdout",
          "text": [
            "              precision    recall  f1-score   support\n",
            "\n",
            "          -1       0.98      0.90      0.94      6230\n",
            "           0       0.93      0.98      0.95     14121\n",
            "           1       0.95      0.94      0.95     12040\n",
            "\n",
            "    accuracy                           0.95     32391\n",
            "   macro avg       0.95      0.94      0.94     32391\n",
            "weighted avg       0.95      0.95      0.95     32391\n",
            "\n"
          ]
        },
        {
          "output_type": "execute_result",
          "data": {
            "text/plain": [
              "array([[ 5586,   389,   255],\n",
              "       [   56, 13771,   294],\n",
              "       [   61,   691, 11288]])"
            ]
          },
          "metadata": {},
          "execution_count": 32
        }
      ]
    },
    {
      "cell_type": "markdown",
      "metadata": {
        "id": "ig9COIr2UpOx"
      },
      "source": [
        "Predicting output based on validation data"
      ]
    },
    {
      "cell_type": "code",
      "metadata": {
        "id": "EK34Uo4reUQ5",
        "colab": {
          "base_uri": "https://localhost:8080/"
        },
        "outputId": "d9d26608-40cd-400c-aceb-7cfb284bbec7"
      },
      "source": [
        "ypredv_bow=rf.predict(xval_bow)\n",
        "confusion_matrix(yval_bow,ypredv_bow)\n",
        "print(classification_report(yval_bow,ypredv_bow))"
      ],
      "execution_count": null,
      "outputs": [
        {
          "output_type": "stream",
          "name": "stdout",
          "text": [
            "              precision    recall  f1-score   support\n",
            "\n",
            "          -1       0.97      0.89      0.93      3583\n",
            "           0       0.92      0.98      0.95      8298\n",
            "           1       0.96      0.93      0.95      7014\n",
            "\n",
            "    accuracy                           0.94     18895\n",
            "   macro avg       0.95      0.93      0.94     18895\n",
            "weighted avg       0.95      0.94      0.94     18895\n",
            "\n"
          ]
        }
      ]
    },
    {
      "cell_type": "markdown",
      "metadata": {
        "id": "mAHu3KbkVjTY"
      },
      "source": [
        "Prediction after VADER"
      ]
    },
    {
      "cell_type": "markdown",
      "metadata": {
        "id": "cSXCfx0ZVsPG"
      },
      "source": [
        "Prediction on test data"
      ]
    },
    {
      "cell_type": "code",
      "metadata": {
        "id": "3N7NHc60P4xS",
        "colab": {
          "base_uri": "https://localhost:8080/"
        },
        "outputId": "7eb9d110-385b-461b-e479-b5dc6ba079e5"
      },
      "source": [
        "xtrain_bow1,xtest_bow1,ytrain_bow1,ytest_bow1 = train_test_split(X,Y1,random_state=2, test_size=0.3)\n",
        "xtrain_bow1, xval_bow1, ytrain_bow1, yval_bow1= train_test_split(xtrain_bow1, ytrain_bow1, test_size=0.25, random_state=42)\n",
        "rf1= RandomForestClassifier()\n",
        "rf1.fit(xtrain_bow1, ytrain_bow1) # training the model\n",
        "ypred_bow1=rf1.predict(xtest_bow1)\n",
        "print(classification_report(ytest_bow1,ypred_bow1))\n",
        "confusion_matrix(ytest_bow1,ypred_bow1)"
      ],
      "execution_count": null,
      "outputs": [
        {
          "output_type": "stream",
          "name": "stdout",
          "text": [
            "              precision    recall  f1-score   support\n",
            "\n",
            "          -1       0.97      0.90      0.93      9337\n",
            "           0       0.89      0.95      0.92      9149\n",
            "           1       0.94      0.94      0.94     13905\n",
            "\n",
            "    accuracy                           0.93     32391\n",
            "   macro avg       0.93      0.93      0.93     32391\n",
            "weighted avg       0.93      0.93      0.93     32391\n",
            "\n"
          ]
        },
        {
          "output_type": "execute_result",
          "data": {
            "text/plain": [
              "array([[ 8389,   430,   518],\n",
              "       [  108,  8663,   378],\n",
              "       [  160,   617, 13128]])"
            ]
          },
          "metadata": {},
          "execution_count": 34
        }
      ]
    },
    {
      "cell_type": "markdown",
      "metadata": {
        "id": "Y_C0IcisWVOD"
      },
      "source": [
        "Prediction on Validation Data"
      ]
    },
    {
      "cell_type": "code",
      "metadata": {
        "id": "U-00eUHzVnD3",
        "colab": {
          "base_uri": "https://localhost:8080/"
        },
        "outputId": "5dc027f5-88e7-4560-ee17-9e79f1a334aa"
      },
      "source": [
        "ypredv_bow1=rf1.predict(xval_bow1)\n",
        "confusion_matrix(yval_bow1,ypredv_bow1)\n",
        "print(classification_report(yval_bow1,ypredv_bow1))"
      ],
      "execution_count": null,
      "outputs": [
        {
          "output_type": "stream",
          "name": "stdout",
          "text": [
            "              precision    recall  f1-score   support\n",
            "\n",
            "          -1       0.97      0.90      0.93      5372\n",
            "           0       0.89      0.94      0.92      5373\n",
            "           1       0.94      0.94      0.94      8150\n",
            "\n",
            "    accuracy                           0.93     18895\n",
            "   macro avg       0.93      0.93      0.93     18895\n",
            "weighted avg       0.93      0.93      0.93     18895\n",
            "\n"
          ]
        }
      ]
    },
    {
      "cell_type": "markdown",
      "metadata": {
        "id": "1IXwS0J-a1_7"
      },
      "source": [
        "**Decision Tree Classifier**"
      ]
    },
    {
      "cell_type": "markdown",
      "metadata": {
        "id": "YlK2dgMjdbu_"
      },
      "source": [
        "Using Textblob"
      ]
    },
    {
      "cell_type": "code",
      "metadata": {
        "id": "KaavWgLoeOCq",
        "colab": {
          "base_uri": "https://localhost:8080/"
        },
        "outputId": "01e3379e-34d6-478b-ccb9-3bc5eb7ad5e4"
      },
      "source": [
        "from sklearn.tree import DecisionTreeClassifier\n",
        "dt=DecisionTreeClassifier()\n",
        "dt.fit(xtrain_bow, ytrain_bow)\n",
        "ypred_bowdt=dt.predict(xtest_bow)\n",
        "print(classification_report(ytest_bow,ypred_bowdt))"
      ],
      "execution_count": null,
      "outputs": [
        {
          "output_type": "stream",
          "name": "stdout",
          "text": [
            "              precision    recall  f1-score   support\n",
            "\n",
            "          -1       0.93      0.90      0.92      6230\n",
            "           0       0.94      0.95      0.94     14121\n",
            "           1       0.93      0.93      0.93     12040\n",
            "\n",
            "    accuracy                           0.93     32391\n",
            "   macro avg       0.93      0.93      0.93     32391\n",
            "weighted avg       0.93      0.93      0.93     32391\n",
            "\n"
          ]
        }
      ]
    },
    {
      "cell_type": "code",
      "metadata": {
        "id": "Mpsldt8SbC3P",
        "colab": {
          "base_uri": "https://localhost:8080/"
        },
        "outputId": "e1126edf-10a8-4d52-fa25-f7027c5fe20a"
      },
      "source": [
        "ypredv_bowdt=dt.predict(xval_bow)\n",
        "print(classification_report(yval_bow1,ypredv_bowdt))"
      ],
      "execution_count": null,
      "outputs": [
        {
          "output_type": "stream",
          "name": "stdout",
          "text": [
            "              precision    recall  f1-score   support\n",
            "\n",
            "          -1       0.29      0.19      0.23      5372\n",
            "           0       0.28      0.44      0.34      5373\n",
            "           1       0.44      0.37      0.40      8150\n",
            "\n",
            "    accuracy                           0.34     18895\n",
            "   macro avg       0.33      0.33      0.32     18895\n",
            "weighted avg       0.35      0.34      0.34     18895\n",
            "\n"
          ]
        }
      ]
    },
    {
      "cell_type": "markdown",
      "metadata": {
        "id": "Vovt-enkdfEE"
      },
      "source": [
        "Using VADER"
      ]
    },
    {
      "cell_type": "code",
      "metadata": {
        "id": "nc3e8ZuN3gyB",
        "colab": {
          "base_uri": "https://localhost:8080/"
        },
        "outputId": "9389ffc6-ad9f-419c-d86e-2552459a24c0"
      },
      "source": [
        "dt.fit(xtrain_bow1, ytrain_bow1)\n",
        "ypred_bowdt1=dt.predict(xtest_bow1)\n",
        "print(classification_report(ytest_bow1,ypred_bowdt1))"
      ],
      "execution_count": null,
      "outputs": [
        {
          "output_type": "stream",
          "name": "stdout",
          "text": [
            "              precision    recall  f1-score   support\n",
            "\n",
            "          -1       0.92      0.91      0.91      9337\n",
            "           0       0.89      0.92      0.90      9149\n",
            "           1       0.93      0.92      0.93     13905\n",
            "\n",
            "    accuracy                           0.92     32391\n",
            "   macro avg       0.91      0.92      0.92     32391\n",
            "weighted avg       0.92      0.92      0.92     32391\n",
            "\n"
          ]
        }
      ]
    },
    {
      "cell_type": "code",
      "metadata": {
        "id": "bpupuNxQbCG8",
        "colab": {
          "base_uri": "https://localhost:8080/"
        },
        "outputId": "5d079695-0995-45fe-cd96-fc75e20814c3"
      },
      "source": [
        "#dt.fit(xtrain_bow1,ytrain_bow1)\n",
        "print(len(yval_bow))\n",
        "ypredv_bowdt1=dt.predict(xval_bow1)\n",
        "print(classification_report(yval_bow1,ypredv_bowdt1))"
      ],
      "execution_count": null,
      "outputs": [
        {
          "output_type": "stream",
          "name": "stdout",
          "text": [
            "18895\n",
            "              precision    recall  f1-score   support\n",
            "\n",
            "          -1       0.92      0.91      0.91      5372\n",
            "           0       0.89      0.93      0.91      5373\n",
            "           1       0.93      0.92      0.93      8150\n",
            "\n",
            "    accuracy                           0.92     18895\n",
            "   macro avg       0.91      0.92      0.92     18895\n",
            "weighted avg       0.92      0.92      0.92     18895\n",
            "\n"
          ]
        }
      ]
    },
    {
      "cell_type": "code",
      "metadata": {
        "id": "c4V0joYjr8uL"
      },
      "source": [
        "from sklearn.naive_bayes import GaussianNB\n",
        "from sklearn.linear_model import LogisticRegression\n",
        "from sklearn.neighbors import KNeighborsClassifier\n",
        "from sklearn.svm import SVC \n",
        "nb=GaussianNB()\n",
        "logistic=LogisticRegression()\n",
        "svm=SVC()\n",
        "knn=KNeighborsClassifier()\n"
      ],
      "execution_count": null,
      "outputs": []
    },
    {
      "cell_type": "markdown",
      "metadata": {
        "id": "upByGH9-c2Sl"
      },
      "source": [
        "**Gaussian Naive Bayes**"
      ]
    },
    {
      "cell_type": "markdown",
      "metadata": {
        "id": "0gHEC59wdShN"
      },
      "source": [
        "Using Textblob"
      ]
    },
    {
      "cell_type": "markdown",
      "metadata": {
        "id": "6aNao-MTdKLX"
      },
      "source": [
        "On test data"
      ]
    },
    {
      "cell_type": "code",
      "metadata": {
        "id": "uL2zVH8Vc1kk",
        "colab": {
          "base_uri": "https://localhost:8080/"
        },
        "outputId": "ab485af1-ae12-47d8-be58-16bb718b8759"
      },
      "source": [
        "nb.fit(xtrain_bow, ytrain_bow)\n",
        "ypred_bownb=nb.predict(xtest_bow)\n",
        "print(classification_report(ytest_bow,ypred_bownb))"
      ],
      "execution_count": null,
      "outputs": [
        {
          "output_type": "stream",
          "name": "stdout",
          "text": [
            "              precision    recall  f1-score   support\n",
            "\n",
            "          -1       0.63      0.88      0.74      6230\n",
            "           0       0.87      0.92      0.90     14121\n",
            "           1       0.94      0.68      0.79     12040\n",
            "\n",
            "    accuracy                           0.83     32391\n",
            "   macro avg       0.81      0.83      0.81     32391\n",
            "weighted avg       0.85      0.83      0.83     32391\n",
            "\n"
          ]
        }
      ]
    },
    {
      "cell_type": "markdown",
      "metadata": {
        "id": "884vwp0FdLSs"
      },
      "source": [
        "On validation data"
      ]
    },
    {
      "cell_type": "code",
      "metadata": {
        "id": "uX3Efjcdc-k8",
        "colab": {
          "base_uri": "https://localhost:8080/"
        },
        "outputId": "cfaf93cc-cd62-4c59-ebf7-e39d12860e18"
      },
      "source": [
        "ypredv_bownb=nb.predict(xval_bow)\n",
        "print(classification_report(yval_bow,ypredv_bownb))"
      ],
      "execution_count": null,
      "outputs": [
        {
          "output_type": "stream",
          "name": "stdout",
          "text": [
            "              precision    recall  f1-score   support\n",
            "\n",
            "          -1       0.62      0.87      0.73      3583\n",
            "           0       0.87      0.92      0.89      8298\n",
            "           1       0.93      0.68      0.79      7014\n",
            "\n",
            "    accuracy                           0.82     18895\n",
            "   macro avg       0.81      0.82      0.80     18895\n",
            "weighted avg       0.85      0.82      0.82     18895\n",
            "\n"
          ]
        }
      ]
    },
    {
      "cell_type": "markdown",
      "metadata": {
        "id": "zLFRf15pdXVk"
      },
      "source": [
        "Using VADER"
      ]
    },
    {
      "cell_type": "code",
      "metadata": {
        "id": "rAClF1tLdWyX",
        "colab": {
          "base_uri": "https://localhost:8080/"
        },
        "outputId": "68758b26-70ca-4e80-dea2-8dff391301cb"
      },
      "source": [
        "nb.fit(xtrain_bow1, ytrain_bow1)\n",
        "ypred_bownb1=nb.predict(xtest_bow1)\n",
        "print(classification_report(ytest_bow1,ypred_bownb1))"
      ],
      "execution_count": null,
      "outputs": [
        {
          "output_type": "stream",
          "name": "stdout",
          "text": [
            "              precision    recall  f1-score   support\n",
            "\n",
            "          -1       0.83      0.83      0.83      9337\n",
            "           0       0.72      0.97      0.83      9149\n",
            "           1       0.94      0.74      0.83     13905\n",
            "\n",
            "    accuracy                           0.83     32391\n",
            "   macro avg       0.83      0.84      0.83     32391\n",
            "weighted avg       0.85      0.83      0.83     32391\n",
            "\n"
          ]
        }
      ]
    },
    {
      "cell_type": "code",
      "metadata": {
        "id": "BKTV5pGRdxrx",
        "colab": {
          "base_uri": "https://localhost:8080/"
        },
        "outputId": "53396e95-096f-4d31-e9ef-c80408ab2ea1"
      },
      "source": [
        "ypredv_bownb1=nb.predict(xval_bow1)\n",
        "print(classification_report(yval_bow1,ypredv_bownb1))"
      ],
      "execution_count": null,
      "outputs": [
        {
          "output_type": "stream",
          "name": "stdout",
          "text": [
            "              precision    recall  f1-score   support\n",
            "\n",
            "          -1       0.82      0.82      0.82      5372\n",
            "           0       0.72      0.96      0.82      5373\n",
            "           1       0.94      0.73      0.82      8150\n",
            "\n",
            "    accuracy                           0.82     18895\n",
            "   macro avg       0.83      0.84      0.82     18895\n",
            "weighted avg       0.84      0.82      0.82     18895\n",
            "\n"
          ]
        }
      ]
    },
    {
      "cell_type": "code",
      "metadata": {
        "id": "HOBAMkj02egk"
      },
      "source": [
        "from sklearn.metrics import classification_report,confusion_matrix,accuracy_score,precision_score,recall_score,roc_auc_score,f1_score"
      ],
      "execution_count": null,
      "outputs": []
    },
    {
      "cell_type": "code",
      "metadata": {
        "id": "-YqeQf3xEJfo"
      },
      "source": [
        "from sklearn.preprocessing import StandardScaler\n",
        "sc = StandardScaler()\n",
        "Xtrain_sc = sc.fit_transform(xtrain_bow)\n",
        "Xtest_sc = sc.transform(xtest_bow)"
      ],
      "execution_count": null,
      "outputs": []
    },
    {
      "cell_type": "markdown",
      "metadata": {
        "id": "6M44Cay3CVXA"
      },
      "source": [
        "# TEST"
      ]
    },
    {
      "cell_type": "markdown",
      "metadata": {
        "id": "OJyjGNzJXUPI"
      },
      "source": [
        "Two sample texts are considered "
      ]
    },
    {
      "cell_type": "code",
      "metadata": {
        "id": "1AFzHDGqCVXA"
      },
      "source": [
        "txt = \"Modi is not a good ruler for the country, though he has done many reforms\""
      ],
      "execution_count": null,
      "outputs": []
    },
    {
      "cell_type": "code",
      "metadata": {
        "id": "yQa7Y3xmCVXE"
      },
      "source": [
        "tx1 = \"seems like a happy day to me\""
      ],
      "execution_count": null,
      "outputs": []
    },
    {
      "cell_type": "markdown",
      "metadata": {
        "id": "t_g2XnudXkht"
      },
      "source": [
        "Sample text from the dataset"
      ]
    },
    {
      "cell_type": "code",
      "metadata": {
        "id": "Q_Yfz2FVCVXI"
      },
      "source": [
        "##ACTUAL TESTING"
      ],
      "execution_count": null,
      "outputs": []
    },
    {
      "cell_type": "code",
      "metadata": {
        "id": "xZ9_M-bICVXI"
      },
      "source": [
        "#VADER"
      ],
      "execution_count": null,
      "outputs": []
    },
    {
      "cell_type": "code",
      "metadata": {
        "id": "oGZygFadCVXJ"
      },
      "source": [
        "def out(txt):\n",
        "    words = txt.split()\n",
        "    table = str.maketrans('', '', string.punctuation)\n",
        "    stripped = [w.translate(table) for w in words]\n",
        "    str1 = \" \"  \n",
        "    clean_text = (str1.join(stripped))\n",
        "    analysis = SentimentIntensityAnalyzer()\n",
        "    score = analysis.polarity_scores(clean_text)\n",
        "    del score['compound']\n",
        "    max_value = max(score,key=score.get)\n",
        "    if max_value=='pos':\n",
        "        print(\"Positive text\")\n",
        "    elif max_value=='neu':\n",
        "        print(\"Neutral\")\n",
        "    else:\n",
        "        print(\"Negative\")"
      ],
      "execution_count": null,
      "outputs": []
    },
    {
      "cell_type": "code",
      "metadata": {
        "id": "7Vd7hCOuCVXJ"
      },
      "source": [
        "txt2 = \"See how one of our #Chowkidar have thrashed Pappu supporter for misleading the country since independence...🙄\\n\\n#RaGaKaMamaJailMe https://t.co/fVM3iGNUK5\""
      ],
      "execution_count": null,
      "outputs": []
    },
    {
      "cell_type": "code",
      "metadata": {
        "id": "oGe18aPtCVXK",
        "colab": {
          "base_uri": "https://localhost:8080/"
        },
        "outputId": "0d4fb7da-410e-4ae1-fe57-acb7c4b18979"
      },
      "source": [
        "out(txt)"
      ],
      "execution_count": null,
      "outputs": [
        {
          "output_type": "stream",
          "name": "stdout",
          "text": [
            "Neutral\n"
          ]
        }
      ]
    },
    {
      "cell_type": "code",
      "metadata": {
        "id": "jLIGsSlYX0H9",
        "colab": {
          "base_uri": "https://localhost:8080/"
        },
        "outputId": "6b95a5ec-e293-4fa4-ff71-778e39a9c23b"
      },
      "source": [
        "out(txt2)"
      ],
      "execution_count": null,
      "outputs": [
        {
          "output_type": "stream",
          "name": "stdout",
          "text": [
            "Neutral\n"
          ]
        }
      ]
    },
    {
      "cell_type": "code",
      "metadata": {
        "id": "ko_mhxH3X40Y",
        "colab": {
          "base_uri": "https://localhost:8080/"
        },
        "outputId": "0fdb0ad8-a6d4-405f-f24b-146c961caf13"
      },
      "source": [
        "out(tx1)"
      ],
      "execution_count": null,
      "outputs": [
        {
          "output_type": "stream",
          "name": "stdout",
          "text": [
            "Positive text\n"
          ]
        }
      ]
    },
    {
      "cell_type": "code",
      "metadata": {
        "id": "XkUVt_NQCVXK"
      },
      "source": [
        "#Textblob"
      ],
      "execution_count": null,
      "outputs": []
    },
    {
      "cell_type": "code",
      "metadata": {
        "id": "iLdQ0Y7bCVXL"
      },
      "source": [
        "def out1(txt):\n",
        "    words = txt.split()\n",
        "    table = str.maketrans('', '', string.punctuation)\n",
        "    stripped = [w.translate(table) for w in words]\n",
        "    str1 = \" \"  \n",
        "    tweet = (str1.join(stripped))\n",
        "    analysis = TextBlob(tweet)\n",
        "    if analysis.sentiment.polarity > 0:\n",
        "        print(\"The text seems to be Positive\")\n",
        "    elif analysis.sentiment.polarity==0 :\n",
        "        print(\"Neutral\")\n",
        "    elif analysis.sentiment.polarity<0:\n",
        "        print(\"Negative\")"
      ],
      "execution_count": null,
      "outputs": []
    },
    {
      "cell_type": "code",
      "metadata": {
        "id": "bw5WZMBtYd9C",
        "colab": {
          "base_uri": "https://localhost:8080/"
        },
        "outputId": "045589c9-8a14-48da-d1bb-41e2f6f5c142"
      },
      "source": [
        "out1(tx1)"
      ],
      "execution_count": null,
      "outputs": [
        {
          "output_type": "stream",
          "name": "stdout",
          "text": [
            "The text seems to be Positive\n"
          ]
        }
      ]
    },
    {
      "cell_type": "code",
      "metadata": {
        "id": "j41iC0eaYghk",
        "colab": {
          "base_uri": "https://localhost:8080/"
        },
        "outputId": "0cdf189c-65ce-42c4-ea74-8e9a7035074e"
      },
      "source": [
        "out1(txt)"
      ],
      "execution_count": null,
      "outputs": [
        {
          "output_type": "stream",
          "name": "stdout",
          "text": [
            "The text seems to be Positive\n"
          ]
        }
      ]
    },
    {
      "cell_type": "code",
      "metadata": {
        "id": "aGD8Z8CXYiIA",
        "colab": {
          "base_uri": "https://localhost:8080/"
        },
        "outputId": "1e507dfe-1f34-4b66-c5c5-7fb64100ba78"
      },
      "source": [
        "out1(txt2)"
      ],
      "execution_count": null,
      "outputs": [
        {
          "output_type": "stream",
          "name": "stdout",
          "text": [
            "Neutral\n"
          ]
        }
      ]
    },
    {
      "cell_type": "markdown",
      "metadata": {
        "id": "1gXNdhYyYl__"
      },
      "source": [
        "Based on the given texts VADER offers a better sentiment classification compared to TextBlob"
      ]
    },
    {
      "cell_type": "code",
      "metadata": {
        "id": "JSiTPb55JIvb",
        "colab": {
          "base_uri": "https://localhost:8080/"
        },
        "outputId": "f976dd60-3bdf-4086-b9a3-0ec422bb04d1"
      },
      "source": [
        "out(\"modi is a bad\")"
      ],
      "execution_count": null,
      "outputs": [
        {
          "output_type": "stream",
          "name": "stdout",
          "text": [
            "Negative\n"
          ]
        }
      ]
    },
    {
      "cell_type": "code",
      "metadata": {
        "id": "d_rQXKfLJJ5r",
        "colab": {
          "base_uri": "https://localhost:8080/"
        },
        "outputId": "b27e82b0-39ae-4216-bb02-f95ab2793b4c"
      },
      "source": [
        "out1(\"Rahul Gandhi is a worst leader\")"
      ],
      "execution_count": null,
      "outputs": [
        {
          "output_type": "stream",
          "name": "stdout",
          "text": [
            "Negative\n"
          ]
        }
      ]
    },
    {
      "cell_type": "code",
      "metadata": {
        "id": "cI1Qmy-1JPfc",
        "colab": {
          "base_uri": "https://localhost:8080/"
        },
        "outputId": "b0387d77-15c3-49ab-f473-61ed073ca64b"
      },
      "source": [
        "out(\"Pathetic approach by Modi\")"
      ],
      "execution_count": null,
      "outputs": [
        {
          "output_type": "stream",
          "name": "stdout",
          "text": [
            "Negative\n"
          ]
        }
      ]
    },
    {
      "cell_type": "code",
      "metadata": {
        "id": "tpKhwG3EJt0I",
        "colab": {
          "base_uri": "https://localhost:8080/"
        },
        "outputId": "169253cf-7479-4f1a-8924-28538a3df067"
      },
      "source": [
        "out1(\"no more propanganda #chowkidarchorhai\")"
      ],
      "execution_count": null,
      "outputs": [
        {
          "output_type": "stream",
          "name": "stdout",
          "text": [
            "Negative\n"
          ]
        }
      ]
    },
    {
      "cell_type": "code",
      "metadata": {
        "id": "OAK3Jk77J4o_"
      },
      "source": [
        ""
      ],
      "execution_count": null,
      "outputs": []
    }
  ]
}